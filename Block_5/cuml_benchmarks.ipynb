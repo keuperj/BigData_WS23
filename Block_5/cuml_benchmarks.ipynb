{
  "cells": [
    {
      "cell_type": "markdown",
      "metadata": {
        "id": "m7hUYKEB09b3"
      },
      "source": [
        "# RAPIDS cuML\n",
        "## Performance, Boundaries, and Correctness Benchmarks\n",
        "\n",
        "**Description:** This notebook provides a simple and unified means of benchmarking single GPU cuML algorithms against their skLearn counterparts with the `cuml.benchmark` package in RAPIDS cuML. This enables quick and simple measurements of performance, validation of correctness, and investigation of upper bounds.\n",
        "\n",
        "Each benchmark returns a Pandas `DataFrame` with the results. At the end of the notebook, these results are used to draw charts and output to a CSV file.\n",
        "\n",
        "Please refer to the [table of contents](#table_of_contents) for algorithms available to be benchmarked with this notebook."
      ]
    },
    {
      "cell_type": "code",
      "source": [
        "#check GPU\n",
        "!nvidia-smi"
      ],
      "metadata": {
        "id": "t2dOFq471Jc2",
        "outputId": "74411437-bb60-4708-ebb2-d8a6610d21b0",
        "colab": {
          "base_uri": "https://localhost:8080/"
        }
      },
      "execution_count": 1,
      "outputs": [
        {
          "output_type": "stream",
          "name": "stdout",
          "text": [
            "Fri Dec 15 06:32:12 2023       \n",
            "+---------------------------------------------------------------------------------------+\n",
            "| NVIDIA-SMI 535.104.05             Driver Version: 535.104.05   CUDA Version: 12.2     |\n",
            "|-----------------------------------------+----------------------+----------------------+\n",
            "| GPU  Name                 Persistence-M | Bus-Id        Disp.A | Volatile Uncorr. ECC |\n",
            "| Fan  Temp   Perf          Pwr:Usage/Cap |         Memory-Usage | GPU-Util  Compute M. |\n",
            "|                                         |                      |               MIG M. |\n",
            "|=========================================+======================+======================|\n",
            "|   0  Tesla T4                       Off | 00000000:00:04.0 Off |                    0 |\n",
            "| N/A   69C    P8              11W /  70W |      0MiB / 15360MiB |      0%      Default |\n",
            "|                                         |                      |                  N/A |\n",
            "+-----------------------------------------+----------------------+----------------------+\n",
            "                                                                                         \n",
            "+---------------------------------------------------------------------------------------+\n",
            "| Processes:                                                                            |\n",
            "|  GPU   GI   CI        PID   Type   Process name                            GPU Memory |\n",
            "|        ID   ID                                                             Usage      |\n",
            "|=======================================================================================|\n",
            "|  No running processes found                                                           |\n",
            "+---------------------------------------------------------------------------------------+\n"
          ]
        }
      ]
    },
    {
      "cell_type": "code",
      "source": [
        "# Rapids install must fit current CUDA version - use https://docs.rapids.ai/install to generate suitable install promt\n",
        "!pip install \\\n",
        "    --extra-index-url=https://pypi.nvidia.com \\\n",
        "    cudf-cu12==23.12.* dask-cudf-cu12==23.12.* cuml-cu12==23.12.* \\\n",
        "    cugraph-cu12==23.12.* cuspatial-cu12==23.12.* cuproj-cu12==23.12.* \\\n",
        "    cuxfilter-cu12==23.12.* cucim-cu12==23.12.* pylibraft-cu12==23.12.* \\\n",
        "    raft-dask-cu12==23.12.*"
      ],
      "metadata": {
        "id": "qOqPcgmP1O-a",
        "outputId": "b9cf7e9e-3805-478d-c1ff-cd8c5b7b5ae7",
        "colab": {
          "base_uri": "https://localhost:8080/"
        }
      },
      "execution_count": 2,
      "outputs": [
        {
          "output_type": "stream",
          "name": "stdout",
          "text": [
            "Looking in indexes: https://pypi.org/simple, https://pypi.nvidia.com\n",
            "Collecting cudf-cu12==23.12.*\n",
            "  Downloading https://pypi.nvidia.com/cudf-cu12/cudf_cu12-23.12.1-cp310-cp310-manylinux_2_28_x86_64.whl (511.6 MB)\n",
            "\u001b[2K     \u001b[90m━━━━━━━━━━━━━━━━━━━━━━━━━━━━━━━━━━━━━━━━\u001b[0m \u001b[32m511.6/511.6 MB\u001b[0m \u001b[31m2.7 MB/s\u001b[0m eta \u001b[36m0:00:00\u001b[0m\n",
            "\u001b[?25hCollecting dask-cudf-cu12==23.12.*\n",
            "  Downloading https://pypi.nvidia.com/dask-cudf-cu12/dask_cudf_cu12-23.12.0-py3-none-any.whl (82 kB)\n",
            "\u001b[2K     \u001b[90m━━━━━━━━━━━━━━━━━━━━━━━━━━━━━━━━━━━━━━━━\u001b[0m \u001b[32m82.9/82.9 kB\u001b[0m \u001b[31m9.5 MB/s\u001b[0m eta \u001b[36m0:00:00\u001b[0m\n",
            "\u001b[?25hCollecting cuml-cu12==23.12.*\n",
            "  Downloading https://pypi.nvidia.com/cuml-cu12/cuml_cu12-23.12.0-cp310-cp310-manylinux_2_17_x86_64.manylinux2014_x86_64.whl (955.2 MB)\n",
            "\u001b[2K     \u001b[90m━━━━━━━━━━━━━━━━━━━━━━━━━━━━━━━━━━━━━━━━\u001b[0m \u001b[32m955.2/955.2 MB\u001b[0m \u001b[31m1.1 MB/s\u001b[0m eta \u001b[36m0:00:00\u001b[0m\n",
            "\u001b[?25hCollecting cugraph-cu12==23.12.*\n",
            "  Downloading https://pypi.nvidia.com/cugraph-cu12/cugraph_cu12-23.12.0-cp310-cp310-manylinux_2_17_x86_64.manylinux2014_x86_64.whl (1192.6 MB)\n",
            "\u001b[2K     \u001b[90m━━━━━━━━━━━━━━━━━━━━━━━━━━━━━━━━━━━━━━━━\u001b[0m \u001b[32m1.2/1.2 GB\u001b[0m \u001b[31m655.3 kB/s\u001b[0m eta \u001b[36m0:00:00\u001b[0m\n",
            "\u001b[?25hCollecting cuspatial-cu12==23.12.*\n",
            "  Downloading https://pypi.nvidia.com/cuspatial-cu12/cuspatial_cu12-23.12.1-cp310-cp310-manylinux_2_17_x86_64.manylinux2014_x86_64.whl (142.8 MB)\n",
            "\u001b[2K     \u001b[90m━━━━━━━━━━━━━━━━━━━━━━━━━━━━━━━━━━━━━━━━\u001b[0m \u001b[32m142.8/142.8 MB\u001b[0m \u001b[31m7.8 MB/s\u001b[0m eta \u001b[36m0:00:00\u001b[0m\n",
            "\u001b[?25hCollecting cuproj-cu12==23.12.*\n",
            "  Downloading https://pypi.nvidia.com/cuproj-cu12/cuproj_cu12-23.12.1-cp310-cp310-manylinux_2_17_x86_64.manylinux2014_x86_64.whl (1.0 MB)\n",
            "\u001b[2K     \u001b[90m━━━━━━━━━━━━━━━━━━━━━━━━━━━━━━━━━━━━━━━━\u001b[0m \u001b[32m1.0/1.0 MB\u001b[0m \u001b[31m47.6 MB/s\u001b[0m eta \u001b[36m0:00:00\u001b[0m\n",
            "\u001b[?25hCollecting cuxfilter-cu12==23.12.*\n",
            "  Downloading https://pypi.nvidia.com/cuxfilter-cu12/cuxfilter_cu12-23.12.0-py3-none-any.whl (83 kB)\n",
            "\u001b[2K     \u001b[90m━━━━━━━━━━━━━━━━━━━━━━━━━━━━━━━━━━━━━━━━\u001b[0m \u001b[32m83.2/83.2 kB\u001b[0m \u001b[31m10.6 MB/s\u001b[0m eta \u001b[36m0:00:00\u001b[0m\n",
            "\u001b[?25hCollecting cucim-cu12==23.12.*\n",
            "  Downloading https://pypi.nvidia.com/cucim-cu12/cucim_cu12-23.12.1-cp310-cp310-manylinux_2_17_x86_64.manylinux2014_x86_64.whl (8.2 MB)\n",
            "\u001b[2K     \u001b[90m━━━━━━━━━━━━━━━━━━━━━━━━━━━━━━━━━━━━━━━━\u001b[0m \u001b[32m8.2/8.2 MB\u001b[0m \u001b[31m71.7 MB/s\u001b[0m eta \u001b[36m0:00:00\u001b[0m\n",
            "\u001b[?25hCollecting pylibraft-cu12==23.12.*\n",
            "  Downloading https://pypi.nvidia.com/pylibraft-cu12/pylibraft_cu12-23.12.0-cp310-cp310-manylinux_2_17_x86_64.manylinux2014_x86_64.whl (509.5 MB)\n",
            "\u001b[2K     \u001b[90m━━━━━━━━━━━━━━━━━━━━━━━━━━━━━━━━━━━━━━━━\u001b[0m \u001b[32m509.5/509.5 MB\u001b[0m \u001b[31m3.0 MB/s\u001b[0m eta \u001b[36m0:00:00\u001b[0m\n",
            "\u001b[?25hCollecting raft-dask-cu12==23.12.*\n",
            "  Downloading https://pypi.nvidia.com/raft-dask-cu12/raft_dask_cu12-23.12.0-cp310-cp310-manylinux_2_17_x86_64.manylinux2014_x86_64.whl (163.0 MB)\n",
            "\u001b[2K     \u001b[90m━━━━━━━━━━━━━━━━━━━━━━━━━━━━━━━━━━━━━━━━\u001b[0m \u001b[32m163.0/163.0 MB\u001b[0m \u001b[31m7.1 MB/s\u001b[0m eta \u001b[36m0:00:00\u001b[0m\n",
            "\u001b[?25hRequirement already satisfied: cachetools in /usr/local/lib/python3.10/dist-packages (from cudf-cu12==23.12.*) (5.3.2)\n",
            "Collecting cuda-python<13.0a0,>=12.0 (from cudf-cu12==23.12.*)\n",
            "  Downloading cuda_python-12.3.0-cp310-cp310-manylinux_2_17_x86_64.manylinux2014_x86_64.whl (23.6 MB)\n",
            "\u001b[2K     \u001b[90m━━━━━━━━━━━━━━━━━━━━━━━━━━━━━━━━━━━━━━━━\u001b[0m \u001b[32m23.6/23.6 MB\u001b[0m \u001b[31m12.0 MB/s\u001b[0m eta \u001b[36m0:00:00\u001b[0m\n",
            "\u001b[?25hRequirement already satisfied: cupy-cuda12x>=12.0.0 in /usr/local/lib/python3.10/dist-packages (from cudf-cu12==23.12.*) (12.2.0)\n",
            "Requirement already satisfied: fsspec>=0.6.0 in /usr/local/lib/python3.10/dist-packages (from cudf-cu12==23.12.*) (2023.6.0)\n",
            "Collecting numba<0.58,>=0.57 (from cudf-cu12==23.12.*)\n",
            "  Downloading numba-0.57.1-cp310-cp310-manylinux2014_x86_64.manylinux_2_17_x86_64.whl (3.6 MB)\n",
            "\u001b[2K     \u001b[90m━━━━━━━━━━━━━━━━━━━━━━━━━━━━━━━━━━━━━━━━\u001b[0m \u001b[32m3.6/3.6 MB\u001b[0m \u001b[31m95.6 MB/s\u001b[0m eta \u001b[36m0:00:00\u001b[0m\n",
            "\u001b[?25hRequirement already satisfied: numpy<1.25,>=1.21 in /usr/local/lib/python3.10/dist-packages (from cudf-cu12==23.12.*) (1.23.5)\n",
            "Collecting nvtx>=0.2.1 (from cudf-cu12==23.12.*)\n",
            "  Downloading nvtx-0.2.8-cp310-cp310-manylinux_2_17_x86_64.manylinux2014_x86_64.whl (582 kB)\n",
            "\u001b[2K     \u001b[90m━━━━━━━━━━━━━━━━━━━━━━━━━━━━━━━━━━━━━━━━\u001b[0m \u001b[32m582.4/582.4 kB\u001b[0m \u001b[31m52.5 MB/s\u001b[0m eta \u001b[36m0:00:00\u001b[0m\n",
            "\u001b[?25hRequirement already satisfied: packaging in /usr/local/lib/python3.10/dist-packages (from cudf-cu12==23.12.*) (23.2)\n",
            "Requirement already satisfied: pandas<1.6.0dev0,>=1.3 in /usr/local/lib/python3.10/dist-packages (from cudf-cu12==23.12.*) (1.5.3)\n",
            "Collecting protobuf<5,>=4.21 (from cudf-cu12==23.12.*)\n",
            "  Downloading protobuf-4.25.1-cp37-abi3-manylinux2014_x86_64.whl (294 kB)\n",
            "\u001b[2K     \u001b[90m━━━━━━━━━━━━━━━━━━━━━━━━━━━━━━━━━━━━━━━━\u001b[0m \u001b[32m294.6/294.6 kB\u001b[0m \u001b[31m19.2 MB/s\u001b[0m eta \u001b[36m0:00:00\u001b[0m\n",
            "\u001b[?25hCollecting pyarrow<15.0.0a0,>=14.0.1 (from cudf-cu12==23.12.*)\n",
            "  Downloading pyarrow-14.0.1-cp310-cp310-manylinux_2_28_x86_64.whl (38.0 MB)\n",
            "\u001b[2K     \u001b[90m━━━━━━━━━━━━━━━━━━━━━━━━━━━━━━━━━━━━━━━━\u001b[0m \u001b[32m38.0/38.0 MB\u001b[0m \u001b[31m13.0 MB/s\u001b[0m eta \u001b[36m0:00:00\u001b[0m\n",
            "\u001b[?25hRequirement already satisfied: rich in /usr/local/lib/python3.10/dist-packages (from cudf-cu12==23.12.*) (13.7.0)\n",
            "Collecting rmm-cu12==23.12.* (from cudf-cu12==23.12.*)\n",
            "  Downloading https://pypi.nvidia.com/rmm-cu12/rmm_cu12-23.12.0-cp310-cp310-manylinux_2_17_x86_64.manylinux2014_x86_64.whl (2.0 MB)\n",
            "\u001b[2K     \u001b[90m━━━━━━━━━━━━━━━━━━━━━━━━━━━━━━━━━━━━━━━━\u001b[0m \u001b[32m2.0/2.0 MB\u001b[0m \u001b[31m81.1 MB/s\u001b[0m eta \u001b[36m0:00:00\u001b[0m\n",
            "\u001b[?25hRequirement already satisfied: typing-extensions>=4.0.0 in /usr/local/lib/python3.10/dist-packages (from cudf-cu12==23.12.*) (4.5.0)\n",
            "Collecting rapids-dask-dependency==23.12.* (from dask-cudf-cu12==23.12.*)\n",
            "  Downloading https://pypi.nvidia.com/rapids-dask-dependency/rapids_dask_dependency-23.12.1-py3-none-any.whl (5.4 kB)\n",
            "Collecting dask-cuda==23.12.* (from cuml-cu12==23.12.*)\n",
            "  Downloading dask_cuda-23.12.0-py3-none-any.whl (126 kB)\n",
            "\u001b[2K     \u001b[90m━━━━━━━━━━━━━━━━━━━━━━━━━━━━━━━━━━━━━━━━\u001b[0m \u001b[32m126.0/126.0 kB\u001b[0m \u001b[31m9.8 MB/s\u001b[0m eta \u001b[36m0:00:00\u001b[0m\n",
            "\u001b[?25hRequirement already satisfied: joblib>=0.11 in /usr/local/lib/python3.10/dist-packages (from cuml-cu12==23.12.*) (1.3.2)\n",
            "Requirement already satisfied: scipy>=1.8.0 in /usr/local/lib/python3.10/dist-packages (from cuml-cu12==23.12.*) (1.11.4)\n",
            "Collecting treelite==3.9.1 (from cuml-cu12==23.12.*)\n",
            "  Downloading treelite-3.9.1-py3-none-manylinux2014_x86_64.whl (1.0 MB)\n",
            "\u001b[2K     \u001b[90m━━━━━━━━━━━━━━━━━━━━━━━━━━━━━━━━━━━━━━━━\u001b[0m \u001b[32m1.0/1.0 MB\u001b[0m \u001b[31m71.2 MB/s\u001b[0m eta \u001b[36m0:00:00\u001b[0m\n",
            "\u001b[?25hCollecting treelite-runtime==3.9.1 (from cuml-cu12==23.12.*)\n",
            "  Downloading treelite_runtime-3.9.1-py3-none-manylinux2014_x86_64.whl (198 kB)\n",
            "\u001b[2K     \u001b[90m━━━━━━━━━━━━━━━━━━━━━━━━━━━━━━━━━━━━━━━━\u001b[0m \u001b[32m198.7/198.7 kB\u001b[0m \u001b[31m24.6 MB/s\u001b[0m eta \u001b[36m0:00:00\u001b[0m\n",
            "\u001b[?25hCollecting pylibcugraph-cu12==23.12.* (from cugraph-cu12==23.12.*)\n",
            "  Downloading https://pypi.nvidia.com/pylibcugraph-cu12/pylibcugraph_cu12-23.12.0-cp310-cp310-manylinux_2_17_x86_64.manylinux2014_x86_64.whl (1193.5 MB)\n",
            "\u001b[2K     \u001b[90m━━━━━━━━━━━━━━━━━━━━━━━━━━━━━━━━━━━━━━━━\u001b[0m \u001b[32m1.2/1.2 GB\u001b[0m \u001b[31m1.4 MB/s\u001b[0m eta \u001b[36m0:00:00\u001b[0m\n",
            "\u001b[?25hCollecting ucx-py-cu12==0.35.* (from cugraph-cu12==23.12.*)\n",
            "  Downloading https://pypi.nvidia.com/ucx-py-cu12/ucx_py_cu12-0.35.0-cp310-cp310-manylinux_2_17_x86_64.manylinux2014_x86_64.whl (7.7 MB)\n",
            "\u001b[2K     \u001b[90m━━━━━━━━━━━━━━━━━━━━━━━━━━━━━━━━━━━━━━━━\u001b[0m \u001b[32m7.7/7.7 MB\u001b[0m \u001b[31m95.4 MB/s\u001b[0m eta \u001b[36m0:00:00\u001b[0m\n",
            "\u001b[?25hRequirement already satisfied: geopandas>=0.11.0 in /usr/local/lib/python3.10/dist-packages (from cuspatial-cu12==23.12.*) (0.13.2)\n",
            "Requirement already satisfied: bokeh>=3.1 in /usr/local/lib/python3.10/dist-packages (from cuxfilter-cu12==23.12.*) (3.3.2)\n",
            "Collecting datashader>=0.15 (from cuxfilter-cu12==23.12.*)\n",
            "  Downloading datashader-0.16.0-py2.py3-none-any.whl (18.3 MB)\n",
            "\u001b[2K     \u001b[90m━━━━━━━━━━━━━━━━━━━━━━━━━━━━━━━━━━━━━━━━\u001b[0m \u001b[32m18.3/18.3 MB\u001b[0m \u001b[31m71.4 MB/s\u001b[0m eta \u001b[36m0:00:00\u001b[0m\n",
            "\u001b[?25hRequirement already satisfied: holoviews>=1.16.0 in /usr/local/lib/python3.10/dist-packages (from cuxfilter-cu12==23.12.*) (1.17.1)\n",
            "Collecting jupyter-server-proxy (from cuxfilter-cu12==23.12.*)\n",
            "  Downloading jupyter_server_proxy-4.1.0-py3-none-any.whl (33 kB)\n",
            "Requirement already satisfied: panel>=1.0 in /usr/local/lib/python3.10/dist-packages (from cuxfilter-cu12==23.12.*) (1.3.4)\n",
            "Requirement already satisfied: lazy-loader>=0.1 in /usr/local/lib/python3.10/dist-packages (from cucim-cu12==23.12.*) (0.3)\n",
            "Requirement already satisfied: scikit-image<0.22.0a0,>=0.19.0 in /usr/local/lib/python3.10/dist-packages (from cucim-cu12==23.12.*) (0.19.3)\n",
            "Requirement already satisfied: click>=8.1 in /usr/local/lib/python3.10/dist-packages (from dask-cuda==23.12.*->cuml-cu12==23.12.*) (8.1.7)\n",
            "Collecting pynvml<11.5,>=11.0.0 (from dask-cuda==23.12.*->cuml-cu12==23.12.*)\n",
            "  Downloading pynvml-11.4.1-py3-none-any.whl (46 kB)\n",
            "\u001b[2K     \u001b[90m━━━━━━━━━━━━━━━━━━━━━━━━━━━━━━━━━━━━━━━━\u001b[0m \u001b[32m47.0/47.0 kB\u001b[0m \u001b[31m5.5 MB/s\u001b[0m eta \u001b[36m0:00:00\u001b[0m\n",
            "\u001b[?25hRequirement already satisfied: zict>=2.0.0 in /usr/local/lib/python3.10/dist-packages (from dask-cuda==23.12.*->cuml-cu12==23.12.*) (3.0.0)\n",
            "Collecting dask==2023.11.0 (from rapids-dask-dependency==23.12.*->dask-cudf-cu12==23.12.*)\n",
            "  Downloading dask-2023.11.0-py3-none-any.whl (1.2 MB)\n",
            "\u001b[2K     \u001b[90m━━━━━━━━━━━━━━━━━━━━━━━━━━━━━━━━━━━━━━━━\u001b[0m \u001b[32m1.2/1.2 MB\u001b[0m \u001b[31m68.5 MB/s\u001b[0m eta \u001b[36m0:00:00\u001b[0m\n",
            "\u001b[?25hCollecting distributed==2023.11.0 (from rapids-dask-dependency==23.12.*->dask-cudf-cu12==23.12.*)\n",
            "  Downloading distributed-2023.11.0-py3-none-any.whl (1.0 MB)\n",
            "\u001b[2K     \u001b[90m━━━━━━━━━━━━━━━━━━━━━━━━━━━━━━━━━━━━━━━━\u001b[0m \u001b[32m1.0/1.0 MB\u001b[0m \u001b[31m67.8 MB/s\u001b[0m eta \u001b[36m0:00:00\u001b[0m\n",
            "\u001b[?25hRequirement already satisfied: cloudpickle>=1.5.0 in /usr/local/lib/python3.10/dist-packages (from dask==2023.11.0->rapids-dask-dependency==23.12.*->dask-cudf-cu12==23.12.*) (2.2.1)\n",
            "Requirement already satisfied: partd>=1.2.0 in /usr/local/lib/python3.10/dist-packages (from dask==2023.11.0->rapids-dask-dependency==23.12.*->dask-cudf-cu12==23.12.*) (1.4.1)\n",
            "Requirement already satisfied: pyyaml>=5.3.1 in /usr/local/lib/python3.10/dist-packages (from dask==2023.11.0->rapids-dask-dependency==23.12.*->dask-cudf-cu12==23.12.*) (6.0.1)\n",
            "Requirement already satisfied: toolz>=0.10.0 in /usr/local/lib/python3.10/dist-packages (from dask==2023.11.0->rapids-dask-dependency==23.12.*->dask-cudf-cu12==23.12.*) (0.12.0)\n",
            "Requirement already satisfied: importlib-metadata>=4.13.0 in /usr/local/lib/python3.10/dist-packages (from dask==2023.11.0->rapids-dask-dependency==23.12.*->dask-cudf-cu12==23.12.*) (7.0.0)\n",
            "Requirement already satisfied: jinja2>=2.10.3 in /usr/local/lib/python3.10/dist-packages (from distributed==2023.11.0->rapids-dask-dependency==23.12.*->dask-cudf-cu12==23.12.*) (3.1.2)\n",
            "Requirement already satisfied: locket>=1.0.0 in /usr/local/lib/python3.10/dist-packages (from distributed==2023.11.0->rapids-dask-dependency==23.12.*->dask-cudf-cu12==23.12.*) (1.0.0)\n",
            "Requirement already satisfied: msgpack>=1.0.0 in /usr/local/lib/python3.10/dist-packages (from distributed==2023.11.0->rapids-dask-dependency==23.12.*->dask-cudf-cu12==23.12.*) (1.0.7)\n",
            "Requirement already satisfied: psutil>=5.7.2 in /usr/local/lib/python3.10/dist-packages (from distributed==2023.11.0->rapids-dask-dependency==23.12.*->dask-cudf-cu12==23.12.*) (5.9.5)\n",
            "Requirement already satisfied: sortedcontainers>=2.0.5 in /usr/local/lib/python3.10/dist-packages (from distributed==2023.11.0->rapids-dask-dependency==23.12.*->dask-cudf-cu12==23.12.*) (2.4.0)\n",
            "Requirement already satisfied: tblib>=1.6.0 in /usr/local/lib/python3.10/dist-packages (from distributed==2023.11.0->rapids-dask-dependency==23.12.*->dask-cudf-cu12==23.12.*) (3.0.0)\n",
            "Requirement already satisfied: tornado>=6.0.4 in /usr/local/lib/python3.10/dist-packages (from distributed==2023.11.0->rapids-dask-dependency==23.12.*->dask-cudf-cu12==23.12.*) (6.3.2)\n",
            "Requirement already satisfied: urllib3>=1.24.3 in /usr/local/lib/python3.10/dist-packages (from distributed==2023.11.0->rapids-dask-dependency==23.12.*->dask-cudf-cu12==23.12.*) (2.0.7)\n",
            "Requirement already satisfied: contourpy>=1 in /usr/local/lib/python3.10/dist-packages (from bokeh>=3.1->cuxfilter-cu12==23.12.*) (1.2.0)\n",
            "Requirement already satisfied: pillow>=7.1.0 in /usr/local/lib/python3.10/dist-packages (from bokeh>=3.1->cuxfilter-cu12==23.12.*) (9.4.0)\n",
            "Requirement already satisfied: xyzservices>=2021.09.1 in /usr/local/lib/python3.10/dist-packages (from bokeh>=3.1->cuxfilter-cu12==23.12.*) (2023.10.1)\n",
            "Requirement already satisfied: fastrlock>=0.5 in /usr/local/lib/python3.10/dist-packages (from cupy-cuda12x>=12.0.0->cudf-cu12==23.12.*) (0.8.2)\n",
            "Requirement already satisfied: colorcet in /usr/local/lib/python3.10/dist-packages (from datashader>=0.15->cuxfilter-cu12==23.12.*) (3.0.1)\n",
            "Requirement already satisfied: multipledispatch in /usr/local/lib/python3.10/dist-packages (from datashader>=0.15->cuxfilter-cu12==23.12.*) (1.0.0)\n",
            "Requirement already satisfied: param in /usr/local/lib/python3.10/dist-packages (from datashader>=0.15->cuxfilter-cu12==23.12.*) (2.0.1)\n",
            "Requirement already satisfied: pyct in /usr/local/lib/python3.10/dist-packages (from datashader>=0.15->cuxfilter-cu12==23.12.*) (0.5.0)\n",
            "Requirement already satisfied: requests in /usr/local/lib/python3.10/dist-packages (from datashader>=0.15->cuxfilter-cu12==23.12.*) (2.31.0)\n",
            "Requirement already satisfied: xarray in /usr/local/lib/python3.10/dist-packages (from datashader>=0.15->cuxfilter-cu12==23.12.*) (2023.7.0)\n",
            "Requirement already satisfied: aiohttp!=4.0.0a0,!=4.0.0a1 in /usr/local/lib/python3.10/dist-packages (from fsspec>=0.6.0->cudf-cu12==23.12.*) (3.9.1)\n",
            "Requirement already satisfied: fiona>=1.8.19 in /usr/local/lib/python3.10/dist-packages (from geopandas>=0.11.0->cuspatial-cu12==23.12.*) (1.9.5)\n",
            "Requirement already satisfied: pyproj>=3.0.1 in /usr/local/lib/python3.10/dist-packages (from geopandas>=0.11.0->cuspatial-cu12==23.12.*) (3.6.1)\n",
            "Requirement already satisfied: shapely>=1.7.1 in /usr/local/lib/python3.10/dist-packages (from geopandas>=0.11.0->cuspatial-cu12==23.12.*) (2.0.2)\n",
            "Requirement already satisfied: pyviz-comms>=0.7.4 in /usr/local/lib/python3.10/dist-packages (from holoviews>=1.16.0->cuxfilter-cu12==23.12.*) (3.0.0)\n",
            "Collecting llvmlite<0.41,>=0.40.0dev0 (from numba<0.58,>=0.57->cudf-cu12==23.12.*)\n",
            "  Downloading llvmlite-0.40.1-cp310-cp310-manylinux_2_17_x86_64.manylinux2014_x86_64.whl (42.1 MB)\n",
            "\u001b[2K     \u001b[90m━━━━━━━━━━━━━━━━━━━━━━━━━━━━━━━━━━━━━━━━\u001b[0m \u001b[32m42.1/42.1 MB\u001b[0m \u001b[31m12.0 MB/s\u001b[0m eta \u001b[36m0:00:00\u001b[0m\n",
            "\u001b[?25hRequirement already satisfied: python-dateutil>=2.8.1 in /usr/local/lib/python3.10/dist-packages (from pandas<1.6.0dev0,>=1.3->cudf-cu12==23.12.*) (2.8.2)\n",
            "Requirement already satisfied: pytz>=2020.1 in /usr/local/lib/python3.10/dist-packages (from pandas<1.6.0dev0,>=1.3->cudf-cu12==23.12.*) (2023.3.post1)\n",
            "Requirement already satisfied: markdown in /usr/local/lib/python3.10/dist-packages (from panel>=1.0->cuxfilter-cu12==23.12.*) (3.5.1)\n",
            "Requirement already satisfied: markdown-it-py in /usr/local/lib/python3.10/dist-packages (from panel>=1.0->cuxfilter-cu12==23.12.*) (3.0.0)\n",
            "Requirement already satisfied: linkify-it-py in /usr/local/lib/python3.10/dist-packages (from panel>=1.0->cuxfilter-cu12==23.12.*) (2.0.2)\n",
            "Requirement already satisfied: mdit-py-plugins in /usr/local/lib/python3.10/dist-packages (from panel>=1.0->cuxfilter-cu12==23.12.*) (0.4.0)\n",
            "Requirement already satisfied: tqdm>=4.48.0 in /usr/local/lib/python3.10/dist-packages (from panel>=1.0->cuxfilter-cu12==23.12.*) (4.66.1)\n",
            "Requirement already satisfied: bleach in /usr/local/lib/python3.10/dist-packages (from panel>=1.0->cuxfilter-cu12==23.12.*) (6.1.0)\n",
            "Requirement already satisfied: networkx>=2.2 in /usr/local/lib/python3.10/dist-packages (from scikit-image<0.22.0a0,>=0.19.0->cucim-cu12==23.12.*) (3.2.1)\n",
            "Requirement already satisfied: imageio>=2.4.1 in /usr/local/lib/python3.10/dist-packages (from scikit-image<0.22.0a0,>=0.19.0->cucim-cu12==23.12.*) (2.31.6)\n",
            "Requirement already satisfied: tifffile>=2019.7.26 in /usr/local/lib/python3.10/dist-packages (from scikit-image<0.22.0a0,>=0.19.0->cucim-cu12==23.12.*) (2023.12.9)\n",
            "Requirement already satisfied: PyWavelets>=1.1.1 in /usr/local/lib/python3.10/dist-packages (from scikit-image<0.22.0a0,>=0.19.0->cucim-cu12==23.12.*) (1.5.0)\n",
            "Requirement already satisfied: jupyter-server>=1.0 in /usr/local/lib/python3.10/dist-packages (from jupyter-server-proxy->cuxfilter-cu12==23.12.*) (1.24.0)\n",
            "Collecting simpervisor>=1.0 (from jupyter-server-proxy->cuxfilter-cu12==23.12.*)\n",
            "  Downloading simpervisor-1.0.0-py3-none-any.whl (8.3 kB)\n",
            "Requirement already satisfied: pygments<3.0.0,>=2.13.0 in /usr/local/lib/python3.10/dist-packages (from rich->cudf-cu12==23.12.*) (2.16.1)\n",
            "Requirement already satisfied: attrs>=17.3.0 in /usr/local/lib/python3.10/dist-packages (from aiohttp!=4.0.0a0,!=4.0.0a1->fsspec>=0.6.0->cudf-cu12==23.12.*) (23.1.0)\n",
            "Requirement already satisfied: multidict<7.0,>=4.5 in /usr/local/lib/python3.10/dist-packages (from aiohttp!=4.0.0a0,!=4.0.0a1->fsspec>=0.6.0->cudf-cu12==23.12.*) (6.0.4)\n",
            "Requirement already satisfied: yarl<2.0,>=1.0 in /usr/local/lib/python3.10/dist-packages (from aiohttp!=4.0.0a0,!=4.0.0a1->fsspec>=0.6.0->cudf-cu12==23.12.*) (1.9.4)\n",
            "Requirement already satisfied: frozenlist>=1.1.1 in /usr/local/lib/python3.10/dist-packages (from aiohttp!=4.0.0a0,!=4.0.0a1->fsspec>=0.6.0->cudf-cu12==23.12.*) (1.4.0)\n",
            "Requirement already satisfied: aiosignal>=1.1.2 in /usr/local/lib/python3.10/dist-packages (from aiohttp!=4.0.0a0,!=4.0.0a1->fsspec>=0.6.0->cudf-cu12==23.12.*) (1.3.1)\n",
            "Requirement already satisfied: async-timeout<5.0,>=4.0 in /usr/local/lib/python3.10/dist-packages (from aiohttp!=4.0.0a0,!=4.0.0a1->fsspec>=0.6.0->cudf-cu12==23.12.*) (4.0.3)\n",
            "Requirement already satisfied: certifi in /usr/local/lib/python3.10/dist-packages (from fiona>=1.8.19->geopandas>=0.11.0->cuspatial-cu12==23.12.*) (2023.11.17)\n",
            "Requirement already satisfied: click-plugins>=1.0 in /usr/local/lib/python3.10/dist-packages (from fiona>=1.8.19->geopandas>=0.11.0->cuspatial-cu12==23.12.*) (1.1.1)\n",
            "Requirement already satisfied: cligj>=0.5 in /usr/local/lib/python3.10/dist-packages (from fiona>=1.8.19->geopandas>=0.11.0->cuspatial-cu12==23.12.*) (0.7.2)\n",
            "Requirement already satisfied: six in /usr/local/lib/python3.10/dist-packages (from fiona>=1.8.19->geopandas>=0.11.0->cuspatial-cu12==23.12.*) (1.16.0)\n",
            "Requirement already satisfied: setuptools in /usr/local/lib/python3.10/dist-packages (from fiona>=1.8.19->geopandas>=0.11.0->cuspatial-cu12==23.12.*) (67.7.2)\n",
            "Requirement already satisfied: MarkupSafe>=2.0 in /usr/local/lib/python3.10/dist-packages (from jinja2>=2.10.3->distributed==2023.11.0->rapids-dask-dependency==23.12.*->dask-cudf-cu12==23.12.*) (2.1.3)\n",
            "Requirement already satisfied: anyio<4,>=3.1.0 in /usr/local/lib/python3.10/dist-packages (from jupyter-server>=1.0->jupyter-server-proxy->cuxfilter-cu12==23.12.*) (3.7.1)\n",
            "Requirement already satisfied: argon2-cffi in /usr/local/lib/python3.10/dist-packages (from jupyter-server>=1.0->jupyter-server-proxy->cuxfilter-cu12==23.12.*) (23.1.0)\n",
            "Requirement already satisfied: jupyter-client>=6.1.12 in /usr/local/lib/python3.10/dist-packages (from jupyter-server>=1.0->jupyter-server-proxy->cuxfilter-cu12==23.12.*) (6.1.12)\n",
            "Requirement already satisfied: jupyter-core!=5.0.*,>=4.12 in /usr/local/lib/python3.10/dist-packages (from jupyter-server>=1.0->jupyter-server-proxy->cuxfilter-cu12==23.12.*) (5.5.0)\n",
            "Requirement already satisfied: nbconvert>=6.4.4 in /usr/local/lib/python3.10/dist-packages (from jupyter-server>=1.0->jupyter-server-proxy->cuxfilter-cu12==23.12.*) (6.5.4)\n",
            "Requirement already satisfied: nbformat>=5.2.0 in /usr/local/lib/python3.10/dist-packages (from jupyter-server>=1.0->jupyter-server-proxy->cuxfilter-cu12==23.12.*) (5.9.2)\n",
            "Requirement already satisfied: prometheus-client in /usr/local/lib/python3.10/dist-packages (from jupyter-server>=1.0->jupyter-server-proxy->cuxfilter-cu12==23.12.*) (0.19.0)\n",
            "Requirement already satisfied: pyzmq>=17 in /usr/local/lib/python3.10/dist-packages (from jupyter-server>=1.0->jupyter-server-proxy->cuxfilter-cu12==23.12.*) (23.2.1)\n",
            "Requirement already satisfied: Send2Trash in /usr/local/lib/python3.10/dist-packages (from jupyter-server>=1.0->jupyter-server-proxy->cuxfilter-cu12==23.12.*) (1.8.2)\n",
            "Requirement already satisfied: terminado>=0.8.3 in /usr/local/lib/python3.10/dist-packages (from jupyter-server>=1.0->jupyter-server-proxy->cuxfilter-cu12==23.12.*) (0.18.0)\n",
            "Requirement already satisfied: traitlets>=5.1 in /usr/local/lib/python3.10/dist-packages (from jupyter-server>=1.0->jupyter-server-proxy->cuxfilter-cu12==23.12.*) (5.7.1)\n",
            "Requirement already satisfied: websocket-client in /usr/local/lib/python3.10/dist-packages (from jupyter-server>=1.0->jupyter-server-proxy->cuxfilter-cu12==23.12.*) (1.7.0)\n",
            "Requirement already satisfied: mdurl~=0.1 in /usr/local/lib/python3.10/dist-packages (from markdown-it-py->panel>=1.0->cuxfilter-cu12==23.12.*) (0.1.2)\n",
            "Requirement already satisfied: webencodings in /usr/local/lib/python3.10/dist-packages (from bleach->panel>=1.0->cuxfilter-cu12==23.12.*) (0.5.1)\n",
            "Requirement already satisfied: uc-micro-py in /usr/local/lib/python3.10/dist-packages (from linkify-it-py->panel>=1.0->cuxfilter-cu12==23.12.*) (1.0.2)\n",
            "Requirement already satisfied: charset-normalizer<4,>=2 in /usr/local/lib/python3.10/dist-packages (from requests->datashader>=0.15->cuxfilter-cu12==23.12.*) (3.3.2)\n",
            "Requirement already satisfied: idna<4,>=2.5 in /usr/local/lib/python3.10/dist-packages (from requests->datashader>=0.15->cuxfilter-cu12==23.12.*) (3.6)\n",
            "Requirement already satisfied: sniffio>=1.1 in /usr/local/lib/python3.10/dist-packages (from anyio<4,>=3.1.0->jupyter-server>=1.0->jupyter-server-proxy->cuxfilter-cu12==23.12.*) (1.3.0)\n",
            "Requirement already satisfied: exceptiongroup in /usr/local/lib/python3.10/dist-packages (from anyio<4,>=3.1.0->jupyter-server>=1.0->jupyter-server-proxy->cuxfilter-cu12==23.12.*) (1.2.0)\n",
            "Requirement already satisfied: zipp>=0.5 in /usr/local/lib/python3.10/dist-packages (from importlib-metadata>=4.13.0->dask==2023.11.0->rapids-dask-dependency==23.12.*->dask-cudf-cu12==23.12.*) (3.17.0)\n",
            "Requirement already satisfied: platformdirs>=2.5 in /usr/local/lib/python3.10/dist-packages (from jupyter-core!=5.0.*,>=4.12->jupyter-server>=1.0->jupyter-server-proxy->cuxfilter-cu12==23.12.*) (4.1.0)\n",
            "Requirement already satisfied: lxml in /usr/local/lib/python3.10/dist-packages (from nbconvert>=6.4.4->jupyter-server>=1.0->jupyter-server-proxy->cuxfilter-cu12==23.12.*) (4.9.3)\n",
            "Requirement already satisfied: beautifulsoup4 in /usr/local/lib/python3.10/dist-packages (from nbconvert>=6.4.4->jupyter-server>=1.0->jupyter-server-proxy->cuxfilter-cu12==23.12.*) (4.11.2)\n",
            "Requirement already satisfied: defusedxml in /usr/local/lib/python3.10/dist-packages (from nbconvert>=6.4.4->jupyter-server>=1.0->jupyter-server-proxy->cuxfilter-cu12==23.12.*) (0.7.1)\n",
            "Requirement already satisfied: entrypoints>=0.2.2 in /usr/local/lib/python3.10/dist-packages (from nbconvert>=6.4.4->jupyter-server>=1.0->jupyter-server-proxy->cuxfilter-cu12==23.12.*) (0.4)\n",
            "Requirement already satisfied: jupyterlab-pygments in /usr/local/lib/python3.10/dist-packages (from nbconvert>=6.4.4->jupyter-server>=1.0->jupyter-server-proxy->cuxfilter-cu12==23.12.*) (0.3.0)\n",
            "Requirement already satisfied: mistune<2,>=0.8.1 in /usr/local/lib/python3.10/dist-packages (from nbconvert>=6.4.4->jupyter-server>=1.0->jupyter-server-proxy->cuxfilter-cu12==23.12.*) (0.8.4)\n",
            "Requirement already satisfied: nbclient>=0.5.0 in /usr/local/lib/python3.10/dist-packages (from nbconvert>=6.4.4->jupyter-server>=1.0->jupyter-server-proxy->cuxfilter-cu12==23.12.*) (0.9.0)\n",
            "Requirement already satisfied: pandocfilters>=1.4.1 in /usr/local/lib/python3.10/dist-packages (from nbconvert>=6.4.4->jupyter-server>=1.0->jupyter-server-proxy->cuxfilter-cu12==23.12.*) (1.5.0)\n",
            "Requirement already satisfied: tinycss2 in /usr/local/lib/python3.10/dist-packages (from nbconvert>=6.4.4->jupyter-server>=1.0->jupyter-server-proxy->cuxfilter-cu12==23.12.*) (1.2.1)\n",
            "Requirement already satisfied: fastjsonschema in /usr/local/lib/python3.10/dist-packages (from nbformat>=5.2.0->jupyter-server>=1.0->jupyter-server-proxy->cuxfilter-cu12==23.12.*) (2.19.0)\n",
            "Requirement already satisfied: jsonschema>=2.6 in /usr/local/lib/python3.10/dist-packages (from nbformat>=5.2.0->jupyter-server>=1.0->jupyter-server-proxy->cuxfilter-cu12==23.12.*) (4.19.2)\n",
            "Requirement already satisfied: ptyprocess in /usr/local/lib/python3.10/dist-packages (from terminado>=0.8.3->jupyter-server>=1.0->jupyter-server-proxy->cuxfilter-cu12==23.12.*) (0.7.0)\n",
            "Requirement already satisfied: argon2-cffi-bindings in /usr/local/lib/python3.10/dist-packages (from argon2-cffi->jupyter-server>=1.0->jupyter-server-proxy->cuxfilter-cu12==23.12.*) (21.2.0)\n",
            "Requirement already satisfied: jsonschema-specifications>=2023.03.6 in /usr/local/lib/python3.10/dist-packages (from jsonschema>=2.6->nbformat>=5.2.0->jupyter-server>=1.0->jupyter-server-proxy->cuxfilter-cu12==23.12.*) (2023.11.2)\n",
            "Requirement already satisfied: referencing>=0.28.4 in /usr/local/lib/python3.10/dist-packages (from jsonschema>=2.6->nbformat>=5.2.0->jupyter-server>=1.0->jupyter-server-proxy->cuxfilter-cu12==23.12.*) (0.32.0)\n",
            "Requirement already satisfied: rpds-py>=0.7.1 in /usr/local/lib/python3.10/dist-packages (from jsonschema>=2.6->nbformat>=5.2.0->jupyter-server>=1.0->jupyter-server-proxy->cuxfilter-cu12==23.12.*) (0.13.2)\n",
            "Requirement already satisfied: cffi>=1.0.1 in /usr/local/lib/python3.10/dist-packages (from argon2-cffi-bindings->argon2-cffi->jupyter-server>=1.0->jupyter-server-proxy->cuxfilter-cu12==23.12.*) (1.16.0)\n",
            "Requirement already satisfied: soupsieve>1.2 in /usr/local/lib/python3.10/dist-packages (from beautifulsoup4->nbconvert>=6.4.4->jupyter-server>=1.0->jupyter-server-proxy->cuxfilter-cu12==23.12.*) (2.5)\n",
            "Requirement already satisfied: pycparser in /usr/local/lib/python3.10/dist-packages (from cffi>=1.0.1->argon2-cffi-bindings->argon2-cffi->jupyter-server>=1.0->jupyter-server-proxy->cuxfilter-cu12==23.12.*) (2.21)\n",
            "Installing collected packages: nvtx, cuda-python, simpervisor, pynvml, pyarrow, protobuf, llvmlite, ucx-py-cu12, treelite-runtime, treelite, numba, dask, rmm-cu12, distributed, cucim-cu12, rapids-dask-dependency, pylibraft-cu12, datashader, cuproj-cu12, cudf-cu12, pylibcugraph-cu12, dask-cudf-cu12, dask-cuda, cuspatial-cu12, raft-dask-cu12, cuml-cu12, cugraph-cu12, jupyter-server-proxy, cuxfilter-cu12\n",
            "  Attempting uninstall: pyarrow\n",
            "    Found existing installation: pyarrow 10.0.1\n",
            "    Uninstalling pyarrow-10.0.1:\n",
            "      Successfully uninstalled pyarrow-10.0.1\n",
            "  Attempting uninstall: protobuf\n",
            "    Found existing installation: protobuf 3.20.3\n",
            "    Uninstalling protobuf-3.20.3:\n",
            "      Successfully uninstalled protobuf-3.20.3\n",
            "  Attempting uninstall: llvmlite\n",
            "    Found existing installation: llvmlite 0.41.1\n",
            "    Uninstalling llvmlite-0.41.1:\n",
            "      Successfully uninstalled llvmlite-0.41.1\n",
            "  Attempting uninstall: numba\n",
            "    Found existing installation: numba 0.58.1\n",
            "    Uninstalling numba-0.58.1:\n",
            "      Successfully uninstalled numba-0.58.1\n",
            "  Attempting uninstall: dask\n",
            "    Found existing installation: dask 2023.8.1\n",
            "    Uninstalling dask-2023.8.1:\n",
            "      Successfully uninstalled dask-2023.8.1\n",
            "  Attempting uninstall: distributed\n",
            "    Found existing installation: distributed 2023.8.1\n",
            "    Uninstalling distributed-2023.8.1:\n",
            "      Successfully uninstalled distributed-2023.8.1\n",
            "\u001b[31mERROR: pip's dependency resolver does not currently take into account all the packages that are installed. This behaviour is the source of the following dependency conflicts.\n",
            "ibis-framework 6.2.0 requires pyarrow<13,>=2, but you have pyarrow 14.0.1 which is incompatible.\n",
            "tensorboard 2.15.1 requires protobuf<4.24,>=3.19.6, but you have protobuf 4.25.1 which is incompatible.\n",
            "tensorflow-metadata 1.14.0 requires protobuf<4.21,>=3.20.3, but you have protobuf 4.25.1 which is incompatible.\u001b[0m\u001b[31m\n",
            "\u001b[0mSuccessfully installed cucim-cu12-23.12.1 cuda-python-12.3.0 cudf-cu12-23.12.1 cugraph-cu12-23.12.0 cuml-cu12-23.12.0 cuproj-cu12-23.12.1 cuspatial-cu12-23.12.1 cuxfilter-cu12-23.12.0 dask-2023.11.0 dask-cuda-23.12.0 dask-cudf-cu12-23.12.0 datashader-0.16.0 distributed-2023.11.0 jupyter-server-proxy-4.1.0 llvmlite-0.40.1 numba-0.57.1 nvtx-0.2.8 protobuf-4.25.1 pyarrow-14.0.1 pylibcugraph-cu12-23.12.0 pylibraft-cu12-23.12.0 pynvml-11.4.1 raft-dask-cu12-23.12.0 rapids-dask-dependency-23.12.1 rmm-cu12-23.12.0 simpervisor-1.0.0 treelite-3.9.1 treelite-runtime-3.9.1 ucx-py-cu12-0.35.0\n"
          ]
        }
      ]
    },
    {
      "cell_type": "code",
      "execution_count": 3,
      "metadata": {
        "id": "C0CaCCq109b7",
        "outputId": "8aea1727-9ee0-4bdc-b3ca-8580d4a63a24",
        "colab": {
          "base_uri": "https://localhost:8080/"
        }
      },
      "outputs": [
        {
          "output_type": "stream",
          "name": "stdout",
          "text": [
            "23.12.00\n"
          ]
        }
      ],
      "source": [
        "import cuml\n",
        "import pandas as pd\n",
        "\n",
        "from cuml.benchmark.runners import SpeedupComparisonRunner\n",
        "from cuml.benchmark.algorithms import algorithm_by_name\n",
        "\n",
        "import warnings\n",
        "warnings.filterwarnings('ignore', 'Expected column ')\n",
        "\n",
        "print(cuml.__version__)"
      ]
    },
    {
      "cell_type": "code",
      "execution_count": 4,
      "metadata": {
        "id": "wSKhkRTB09b9"
      },
      "outputs": [],
      "source": [
        "N_REPS = 3  # Number of times each test is repeated\n",
        "\n",
        "DATA_NEIGHBORHOODS = \"blobs\"\n",
        "DATA_CLASSIFICATION = \"classification\"\n",
        "DATA_REGRESSION = \"regression\"\n",
        "\n",
        "INPUT_TYPE = \"numpy\"\n",
        "\n",
        "benchmark_results = []"
      ]
    },
    {
      "cell_type": "code",
      "execution_count": 5,
      "metadata": {
        "id": "GU9c0LEG09b9"
      },
      "outputs": [],
      "source": [
        "SMALL_ROW_SIZES = [2**x for x in range(14, 17)]\n",
        "LARGE_ROW_SIZES = [2**x for x in range(18, 24, 2)]\n",
        "\n",
        "SKINNY_FEATURES = [32, 256]\n",
        "WIDE_FEATURES = [1000, 10000]\n",
        "\n",
        "VERBOSE=True\n",
        "RUN_CPU=True"
      ]
    },
    {
      "cell_type": "code",
      "execution_count": 6,
      "metadata": {
        "id": "JOwFX8bV09b-"
      },
      "outputs": [],
      "source": [
        "def enrich_result(algorithm, runner, result):\n",
        "    result[\"algo\"] = algorithm\n",
        "    result[\"dataset_name\"] = runner.dataset_name\n",
        "    result[\"input_type\"] = runner.input_type\n",
        "    return result\n",
        "\n",
        "def execute_benchmark(algorithm, runner, verbose=VERBOSE, run_cpu=RUN_CPU, **kwargs):\n",
        "    results = runner.run(algorithm_by_name(algorithm), verbose=verbose, run_cpu=run_cpu, **kwargs)\n",
        "    results = [enrich_result(algorithm, runner, result) for result in results]\n",
        "    benchmark_results.extend(results)"
      ]
    },
    {
      "cell_type": "markdown",
      "metadata": {
        "id": "kmmy8cZ409b-"
      },
      "source": [
        "## Table of Contents<a id=\"table_of_contents\"/>\n",
        "\n",
        "### Benchmarks\n",
        "1. [Neighbors](#neighbors)<br>\n",
        "    1.1 [Nearest Neighbors - Brute Force](#nn_bruteforce)<br>\n",
        "    1.2 [KNeighborsClassifier](#kneighborsclassifier)<br>\n",
        "    1.3 [KNeighborsRegressor](#kneighborsregressor)<br>\n",
        "2. [Clustering](#clustering)<br>\n",
        "    2.1 [DBSCAN - Brute Force](#dbscan_bruteforce)<br>\n",
        "    2.2 [K-Means](#kmeans)<br>\n",
        "3. [Manifold Learning](#manifold_learning)<br>\n",
        "    3.1 [UMAP - Unsupervised](#umap_unsupervised)<br>\n",
        "    3.2 [UMAP - Supervised](#umap_supervised)<br>\n",
        "    3.3 [T-SNE](#tsne)<br>\n",
        "4. [Linear Models](#linear_models)<br>\n",
        "    4.1 [Linear Regression](#linear_regression)<br>\n",
        "    4.2 [Logistic Regression](#logistic_regression)<br>\n",
        "    4.3 [Ridge Regression](#ridge_regression)<br>\n",
        "    4.4 [Lasso Regression](#lasso_regression)<br>\n",
        "    4.5 [ElasticNet Regression](#elasticnet_regression)<br>\n",
        "    4.6 [Mini-batch SGD Classifier](#minibatch_sgd_classifier)<br>\n",
        "5. [Decomposition](#decomposition)<br>\n",
        "    5.1 [PCA](#pca)<br>\n",
        "    5.2 [Truncated SVD](#truncated_svd)<br>\n",
        "6. [Ensemble](#ensemble)<br>\n",
        "    6.1 [Random Forest Classifier](#random_forest_classifier)<br>\n",
        "    6.2 [Random Forest Regressor](#random_forest_regressor)<br>\n",
        "    6.3 [FIL](#fil)<br>\n",
        "    6.4 [Sparse FIL](#sparse_fil)<br>\n",
        "7. [Random Projection](#random_projection)<br>\n",
        "    7.1 [Gaussian Random Projection](#gaussian_random_projection)<br>\n",
        "    7.2 [Sparse Random Projection](#sparse_random_projection)<br>\n",
        "8. [SVM](#svm)<br>\n",
        "    8.1 [SVC - Linear Kernel](#svc_linear_kernel)<br>\n",
        "    8.2 [SVC - RBF Kernel](#svc_rbf_kernel)<br>\n",
        "    8.3 [SVR - Linear Kernel](#svr_linear_kernel)<br>\n",
        "    8.4 [SVR - RBF Kernel](#svr_rbf_kernel)<br>\n",
        "    \n",
        "### Chart & Store Results\n",
        "9. [Convert to Pandas DataFrame](#convert_to_pandas)<br>\n",
        "10. [Chart Results](#chart_results)<br>\n",
        "11. [Output to CSV](#output_csv)<br>"
      ]
    },
    {
      "cell_type": "markdown",
      "metadata": {
        "id": "YBR-YTWm09b_"
      },
      "source": [
        "## Neighbors<a id=\"neighbors\"/>\n"
      ]
    },
    {
      "cell_type": "markdown",
      "metadata": {
        "id": "CXmcui6l09cA"
      },
      "source": [
        "### Nearest Neighbors - Brute Force<a id=\"nn_bruteforce\"/>"
      ]
    },
    {
      "cell_type": "code",
      "execution_count": null,
      "metadata": {
        "id": "lHX-Ve3w09cB",
        "outputId": "f34232ae-0ac5-42bc-daf5-71cdb1385bc7",
        "colab": {
          "base_uri": "https://localhost:8080/"
        }
      },
      "outputs": [
        {
          "output_type": "stream",
          "name": "stdout",
          "text": [
            "NearestNeighbors (n_samples=16384, n_features=32) [cpu=2.355600357055664, gpu=0.07399106025695801, speedup=31.836283314160873]\n",
            "NearestNeighbors (n_samples=16384, n_features=256) [cpu=4.346639633178711, gpu=0.16391491889953613, speedup=26.51765722339635]\n",
            "NearestNeighbors (n_samples=32768, n_features=32) [cpu=6.0500242710113525, gpu=0.1299455165863037, speedup=46.55816091194813]\n",
            "NearestNeighbors (n_samples=32768, n_features=256) [cpu=18.773626804351807, gpu=0.5516567230224609, speedup=34.03135685810799]\n",
            "NearestNeighbors (n_samples=65536, n_features=32) [cpu=24.90588617324829, gpu=0.4178812503814697, speedup=59.60039161965881]\n"
          ]
        }
      ],
      "source": [
        "runner = cuml.benchmark.runners.SpeedupComparisonRunner(\n",
        "    bench_rows=SMALL_ROW_SIZES,\n",
        "    bench_dims=SKINNY_FEATURES,\n",
        "    dataset_name=DATA_NEIGHBORHOODS,\n",
        "    input_type=INPUT_TYPE,\n",
        "    n_reps=N_REPS,\n",
        ")\n",
        "\n",
        "execute_benchmark(\"NearestNeighbors\", runner)"
      ]
    },
    {
      "cell_type": "markdown",
      "metadata": {
        "id": "xBhUjeum09cB"
      },
      "source": [
        "### KNeighborsClassifier<a id=\"kneighborsclassifier\"/>"
      ]
    },
    {
      "cell_type": "code",
      "execution_count": null,
      "metadata": {
        "id": "VOtRN6jR09cC"
      },
      "outputs": [],
      "source": [
        "runner = cuml.benchmark.runners.SpeedupComparisonRunner(\n",
        "    bench_rows=SMALL_ROW_SIZES,\n",
        "    bench_dims=SKINNY_FEATURES,\n",
        "    dataset_name=DATA_CLASSIFICATION,\n",
        "    input_type=INPUT_TYPE,\n",
        "    n_reps=N_REPS\n",
        ")\n",
        "\n",
        "execute_benchmark(\"KNeighborsClassifier\", runner)"
      ]
    },
    {
      "cell_type": "markdown",
      "metadata": {
        "id": "57mbmkcz09cC"
      },
      "source": [
        "### KNeighborsRegressor<a id=\"kneighborsregressor\"/>"
      ]
    },
    {
      "cell_type": "code",
      "execution_count": null,
      "metadata": {
        "id": "ZeUFErM409cD"
      },
      "outputs": [],
      "source": [
        "runner = cuml.benchmark.runners.SpeedupComparisonRunner(\n",
        "    bench_rows=SMALL_ROW_SIZES,\n",
        "    bench_dims=SKINNY_FEATURES,\n",
        "    dataset_name=DATA_REGRESSION,\n",
        "    input_type=INPUT_TYPE,\n",
        "    n_reps=N_REPS\n",
        ")\n",
        "\n",
        "execute_benchmark(\"KNeighborsRegressor\", runner)"
      ]
    },
    {
      "cell_type": "markdown",
      "metadata": {
        "id": "ER8_9UfZ09cD"
      },
      "source": [
        "## Clustering<a id=\"clustering\"/>"
      ]
    },
    {
      "cell_type": "markdown",
      "metadata": {
        "id": "h_1qRaRy09cE"
      },
      "source": [
        "### DBSCAN - Brute Force<a id=\"dbscan_bruteforce\"/>"
      ]
    },
    {
      "cell_type": "code",
      "execution_count": null,
      "metadata": {
        "id": "hdV4mPVg09cE"
      },
      "outputs": [],
      "source": [
        "runner = cuml.benchmark.runners.SpeedupComparisonRunner(\n",
        "    bench_rows=SMALL_ROW_SIZES,\n",
        "    bench_dims=SKINNY_FEATURES,\n",
        "    dataset_name=DATA_NEIGHBORHOODS,\n",
        "    input_type=INPUT_TYPE,\n",
        "    n_reps=N_REPS\n",
        ")\n",
        "\n",
        "execute_benchmark(\"DBSCAN\", runner)"
      ]
    },
    {
      "cell_type": "markdown",
      "metadata": {
        "id": "M47URJ_q09cE"
      },
      "source": [
        "### K-means Clustering<a id=\"kmeans\"/>"
      ]
    },
    {
      "cell_type": "code",
      "execution_count": null,
      "metadata": {
        "id": "wFl85g0d09cF"
      },
      "outputs": [],
      "source": [
        "runner = cuml.benchmark.runners.SpeedupComparisonRunner(\n",
        "    bench_rows=SMALL_ROW_SIZES,\n",
        "    bench_dims=SKINNY_FEATURES,\n",
        "    dataset_name=DATA_NEIGHBORHOODS,\n",
        "    input_type=\"numpy\",\n",
        "    n_reps=N_REPS\n",
        ")\n",
        "\n",
        "execute_benchmark(\"KMeans\", runner)"
      ]
    },
    {
      "cell_type": "markdown",
      "metadata": {
        "id": "Vl-7bw3M09cF"
      },
      "source": [
        "## Manifold Learning<a id=\"manifold_learning\"/>"
      ]
    },
    {
      "cell_type": "markdown",
      "metadata": {
        "id": "R6LUd6Kf09cF"
      },
      "source": [
        "### UMAP - Unsupervised<a id=\"umap_unsupervised\"/>\n",
        "CPU benchmark requires UMAP-learn"
      ]
    },
    {
      "cell_type": "code",
      "execution_count": null,
      "metadata": {
        "id": "2fL4r2nP09cG"
      },
      "outputs": [],
      "source": [
        "runner = cuml.benchmark.runners.SpeedupComparisonRunner(\n",
        "    bench_rows=SMALL_ROW_SIZES,\n",
        "    bench_dims=WIDE_FEATURES,\n",
        "    dataset_name=DATA_NEIGHBORHOODS,\n",
        "    input_type=INPUT_TYPE,\n",
        "    n_reps=N_REPS\n",
        ")\n",
        "\n",
        "execute_benchmark(\"UMAP-Unsupervised\", runner)"
      ]
    },
    {
      "cell_type": "markdown",
      "metadata": {
        "id": "kqgrRYhh09cG"
      },
      "source": [
        "### UMAP - Supervised<a id=\"umap_supervised\"/>\n",
        "CPU benchmark requires UMAP-learn"
      ]
    },
    {
      "cell_type": "code",
      "execution_count": null,
      "metadata": {
        "id": "tnmMo_wp09cG"
      },
      "outputs": [],
      "source": [
        "runner = cuml.benchmark.runners.SpeedupComparisonRunner(\n",
        "    bench_rows=SMALL_ROW_SIZES,\n",
        "    bench_dims=WIDE_FEATURES,\n",
        "    dataset_name=DATA_NEIGHBORHOODS,\n",
        "    input_type=INPUT_TYPE,\n",
        "    n_reps=N_REPS\n",
        ")\n",
        "\n",
        "execute_benchmark(\"UMAP-Supervised\", runner)"
      ]
    },
    {
      "cell_type": "markdown",
      "metadata": {
        "id": "XVfTd00H09cG"
      },
      "source": [
        "### T-SNE<a id=\"tsne\"/>"
      ]
    },
    {
      "cell_type": "code",
      "execution_count": null,
      "metadata": {
        "id": "-hj3Oimt09cH"
      },
      "outputs": [],
      "source": [
        "runner = cuml.benchmark.runners.SpeedupComparisonRunner(\n",
        "    bench_rows=SMALL_ROW_SIZES,\n",
        "    bench_dims=SKINNY_FEATURES,\n",
        "    dataset_name=DATA_NEIGHBORHOODS,\n",
        "    input_type=INPUT_TYPE,\n",
        "    n_reps=N_REPS\n",
        ")\n",
        "\n",
        "# Due to extreme high runtime, the CPU benchmark\n",
        "# is disabled. Use run_cpu=True to re-enable.\n",
        "\n",
        "execute_benchmark(\"TSNE\", runner, run_cpu=True)"
      ]
    },
    {
      "cell_type": "markdown",
      "metadata": {
        "id": "_m9pERSI09cH"
      },
      "source": [
        "## Linear Models<a id=\"linear_models\"/>"
      ]
    },
    {
      "cell_type": "markdown",
      "metadata": {
        "id": "qCV-3MuX09cH"
      },
      "source": [
        "### Linear Regression<a id=\"linear_regression\"/>"
      ]
    },
    {
      "cell_type": "code",
      "execution_count": null,
      "metadata": {
        "id": "BoF_Qwkt09cH"
      },
      "outputs": [],
      "source": [
        "runner = cuml.benchmark.runners.SpeedupComparisonRunner(\n",
        "    bench_rows=SMALL_ROW_SIZES,\n",
        "    bench_dims=SKINNY_FEATURES,\n",
        "    dataset_name=DATA_REGRESSION,\n",
        "    input_type=INPUT_TYPE,\n",
        "    n_reps=N_REPS\n",
        ")\n",
        "\n",
        "execute_benchmark(\"LinearRegression\", runner)"
      ]
    },
    {
      "cell_type": "markdown",
      "metadata": {
        "id": "oD9EQJHm09cH"
      },
      "source": [
        "### Logistic Regression<a id=\"logistic_regression\"/>"
      ]
    },
    {
      "cell_type": "code",
      "execution_count": null,
      "metadata": {
        "id": "7ps9P8Qg09cI"
      },
      "outputs": [],
      "source": [
        "runner = cuml.benchmark.runners.SpeedupComparisonRunner(\n",
        "    bench_rows=SMALL_ROW_SIZES,\n",
        "    bench_dims=SKINNY_FEATURES,\n",
        "    dataset_name=DATA_CLASSIFICATION,\n",
        "    input_type=INPUT_TYPE,\n",
        "    n_reps=N_REPS\n",
        ")\n",
        "\n",
        "execute_benchmark(\"LogisticRegression\", runner)"
      ]
    },
    {
      "cell_type": "markdown",
      "metadata": {
        "id": "DPvtsdoA09cI"
      },
      "source": [
        "### Ridge Regression<a id=\"ridge_regression\"/>"
      ]
    },
    {
      "cell_type": "code",
      "execution_count": null,
      "metadata": {
        "id": "8Cboa3L609cI"
      },
      "outputs": [],
      "source": [
        "runner = cuml.benchmark.runners.SpeedupComparisonRunner(\n",
        "    bench_rows=SMALL_ROW_SIZES,\n",
        "    bench_dims=SKINNY_FEATURES,\n",
        "    dataset_name=DATA_REGRESSION,\n",
        "    input_type=INPUT_TYPE,\n",
        "    n_reps=N_REPS\n",
        ")\n",
        "\n",
        "execute_benchmark(\"Ridge\", runner)"
      ]
    },
    {
      "cell_type": "markdown",
      "metadata": {
        "id": "RkBblJeV09cI"
      },
      "source": [
        "### Lasso Regression<a id=\"lasso_regression\"/>"
      ]
    },
    {
      "cell_type": "code",
      "execution_count": null,
      "metadata": {
        "id": "aOvZyO2Y09cI"
      },
      "outputs": [],
      "source": [
        "runner = cuml.benchmark.runners.SpeedupComparisonRunner(\n",
        "    bench_rows=SMALL_ROW_SIZES,\n",
        "    bench_dims=SKINNY_FEATURES,\n",
        "    dataset_name=DATA_REGRESSION,\n",
        "    input_type=INPUT_TYPE,\n",
        "    n_reps=N_REPS\n",
        ")\n",
        "\n",
        "execute_benchmark(\"Lasso\", runner)"
      ]
    },
    {
      "cell_type": "markdown",
      "metadata": {
        "id": "0OiJOCYS09cJ"
      },
      "source": [
        "### ElasticNet Regression<a id=\"elasticnet_regression\"/>"
      ]
    },
    {
      "cell_type": "code",
      "execution_count": null,
      "metadata": {
        "id": "IH7DLT7p09cJ"
      },
      "outputs": [],
      "source": [
        "runner = cuml.benchmark.runners.SpeedupComparisonRunner(\n",
        "    bench_rows=SMALL_ROW_SIZES,\n",
        "    bench_dims=SKINNY_FEATURES,\n",
        "    dataset_name=DATA_REGRESSION,\n",
        "    input_type=INPUT_TYPE,\n",
        "    n_reps=N_REPS\n",
        ")\n",
        "\n",
        "execute_benchmark(\"ElasticNet\", runner)"
      ]
    },
    {
      "cell_type": "markdown",
      "metadata": {
        "id": "eOgs5Vr609cJ"
      },
      "source": [
        "### Mini-batch SGD Classifier<a id=\"minibatch_sgd_classifier\"/>"
      ]
    },
    {
      "cell_type": "code",
      "execution_count": null,
      "metadata": {
        "id": "UzgYY9rw09cJ"
      },
      "outputs": [],
      "source": [
        "runner = cuml.benchmark.runners.SpeedupComparisonRunner(\n",
        "    bench_rows=SMALL_ROW_SIZES,\n",
        "    bench_dims=SKINNY_FEATURES,\n",
        "    dataset_name=DATA_CLASSIFICATION,\n",
        "    input_type=INPUT_TYPE,\n",
        "    n_reps=N_REPS\n",
        ")\n",
        "\n",
        "execute_benchmark(\"MBSGDClassifier\", runner)"
      ]
    },
    {
      "cell_type": "markdown",
      "metadata": {
        "id": "Js6wMAlx09cJ"
      },
      "source": [
        "## Decomposition<a id=\"decomposition\"/>"
      ]
    },
    {
      "cell_type": "markdown",
      "metadata": {
        "id": "PUF1QrmL09cJ"
      },
      "source": [
        "### PCA<a id=\"pca\"/>"
      ]
    },
    {
      "cell_type": "code",
      "execution_count": null,
      "metadata": {
        "id": "-1XVdk3c09cK"
      },
      "outputs": [],
      "source": [
        "runner = cuml.benchmark.runners.SpeedupComparisonRunner(\n",
        "    bench_rows=SMALL_ROW_SIZES,\n",
        "    bench_dims=WIDE_FEATURES,\n",
        "    dataset_name=DATA_NEIGHBORHOODS,\n",
        "    input_type=INPUT_TYPE,\n",
        "    n_reps=N_REPS\n",
        ")\n",
        "\n",
        "execute_benchmark(\"PCA\", runner)"
      ]
    },
    {
      "cell_type": "markdown",
      "metadata": {
        "id": "CxpQuQh509cK"
      },
      "source": [
        "### Truncated SVD<a id=\"truncated_svd\"/>"
      ]
    },
    {
      "cell_type": "code",
      "execution_count": null,
      "metadata": {
        "id": "u_Mwp2lQ09cK"
      },
      "outputs": [],
      "source": [
        "runner = cuml.benchmark.runners.SpeedupComparisonRunner(\n",
        "    bench_rows=SMALL_ROW_SIZES,\n",
        "    bench_dims=WIDE_FEATURES,\n",
        "    dataset_name=DATA_NEIGHBORHOODS,\n",
        "    input_type=INPUT_TYPE,\n",
        "    n_reps=N_REPS\n",
        ")\n",
        "\n",
        "execute_benchmark(\"TSVD\", runner)"
      ]
    },
    {
      "cell_type": "markdown",
      "metadata": {
        "id": "rmJpcbXi09cK"
      },
      "source": [
        "## Ensemble<a id=\"ensemble\"/>"
      ]
    },
    {
      "cell_type": "markdown",
      "metadata": {
        "id": "mgTDd0zL09cK"
      },
      "source": [
        "### Random Forest Classifier<a id=\"random_forest_classifier\"/>"
      ]
    },
    {
      "cell_type": "code",
      "execution_count": null,
      "metadata": {
        "id": "x4_QPOFZ09cK"
      },
      "outputs": [],
      "source": [
        "runner = cuml.benchmark.runners.SpeedupComparisonRunner(\n",
        "    bench_rows=SMALL_ROW_SIZES,\n",
        "    bench_dims=SKINNY_FEATURES,\n",
        "    dataset_name=DATA_CLASSIFICATION,\n",
        "    input_type=INPUT_TYPE,\n",
        "    n_reps=N_REPS\n",
        ")\n",
        "\n",
        "execute_benchmark(\"RandomForestClassifier\", runner)"
      ]
    },
    {
      "cell_type": "markdown",
      "metadata": {
        "id": "oaRUMHai09cK"
      },
      "source": [
        "### Random Forest Regressor<a id=\"random_forest_regressor\"/>"
      ]
    },
    {
      "cell_type": "code",
      "execution_count": null,
      "metadata": {
        "id": "hGmEIUgf09cL"
      },
      "outputs": [],
      "source": [
        "runner = cuml.benchmark.runners.SpeedupComparisonRunner(\n",
        "    bench_rows=SMALL_ROW_SIZES,\n",
        "    bench_dims=SKINNY_FEATURES,\n",
        "    dataset_name=DATA_REGRESSION,\n",
        "    input_type=INPUT_TYPE,\n",
        "    n_reps=N_REPS\n",
        ")\n",
        "\n",
        "execute_benchmark(\"RandomForestRegressor\", runner)"
      ]
    },
    {
      "cell_type": "markdown",
      "metadata": {
        "id": "bdWOcDoZ09cL"
      },
      "source": [
        "### FIL<a id=\"fil\"/>\n",
        "CPU benchmark requires XGBoost Library"
      ]
    },
    {
      "cell_type": "code",
      "execution_count": null,
      "metadata": {
        "id": "YiaNAO8Y09cL"
      },
      "outputs": [],
      "source": [
        "runner = cuml.benchmark.runners.SpeedupComparisonRunner(\n",
        "    bench_rows=SMALL_ROW_SIZES,\n",
        "    bench_dims=SKINNY_FEATURES,\n",
        "    dataset_name=DATA_CLASSIFICATION,\n",
        "    input_type=INPUT_TYPE,\n",
        "    n_reps=N_REPS\n",
        ")\n",
        "\n",
        "execute_benchmark(\"FIL\", runner)"
      ]
    },
    {
      "cell_type": "markdown",
      "metadata": {
        "id": "ZbppQIQs09cL"
      },
      "source": [
        "## Sparse FIL<a id=\"sparse_fil\"/>\n",
        "Requires TreeLite library"
      ]
    },
    {
      "cell_type": "code",
      "execution_count": null,
      "metadata": {
        "id": "W39aifV809cL"
      },
      "outputs": [],
      "source": [
        "runner = cuml.benchmark.runners.SpeedupComparisonRunner(\n",
        "    bench_rows=SMALL_ROW_SIZES,\n",
        "    bench_dims=SKINNY_FEATURES,\n",
        "    dataset_name=DATA_CLASSIFICATION,\n",
        "    input_type=INPUT_TYPE,\n",
        "    n_reps=N_REPS\n",
        ")\n",
        "\n",
        "execute_benchmark(\"Sparse-FIL-SKL\", runner)"
      ]
    },
    {
      "cell_type": "markdown",
      "metadata": {
        "id": "jcOj44_j09cL"
      },
      "source": [
        "## Random Projection<a id=\"random_projection\"/>"
      ]
    },
    {
      "cell_type": "markdown",
      "metadata": {
        "id": "qoE9GweR09cM"
      },
      "source": [
        "### Gaussian Random Projection<a id=\"gaussian_random_projection\"/>"
      ]
    },
    {
      "cell_type": "code",
      "execution_count": null,
      "metadata": {
        "id": "VWkDe7Xl09cM"
      },
      "outputs": [],
      "source": [
        "runner = cuml.benchmark.runners.SpeedupComparisonRunner(\n",
        "    bench_rows=SMALL_ROW_SIZES,\n",
        "    bench_dims=WIDE_FEATURES,\n",
        "    dataset_name=DATA_NEIGHBORHOODS,\n",
        "    input_type=INPUT_TYPE,\n",
        "    n_reps=N_REPS\n",
        ")\n",
        "\n",
        "execute_benchmark(\"GaussianRandomProjection\", runner)"
      ]
    },
    {
      "cell_type": "markdown",
      "metadata": {
        "id": "eDRn2Ryp09cM"
      },
      "source": [
        "### Sparse Random Projection<a id=\"sparse_random_projection\"/>"
      ]
    },
    {
      "cell_type": "code",
      "execution_count": null,
      "metadata": {
        "id": "pN5FGSp209cM"
      },
      "outputs": [],
      "source": [
        "runner = cuml.benchmark.runners.SpeedupComparisonRunner(\n",
        "    bench_rows=SMALL_ROW_SIZES,\n",
        "    bench_dims=WIDE_FEATURES,\n",
        "    dataset_name=DATA_NEIGHBORHOODS,\n",
        "    input_type=INPUT_TYPE,\n",
        "    n_reps=N_REPS\n",
        ")\n",
        "\n",
        "execute_benchmark(\"SparseRandomProjection\", runner)"
      ]
    },
    {
      "cell_type": "markdown",
      "metadata": {
        "id": "0KRcYyQF09cM"
      },
      "source": [
        "## SVM<a id=\"svm\"/>"
      ]
    },
    {
      "cell_type": "markdown",
      "metadata": {
        "id": "BHnAEK1-09cN"
      },
      "source": [
        "### SVC - Linear Kernel<a id=\"svc_linear_kernel\"/>"
      ]
    },
    {
      "cell_type": "code",
      "execution_count": null,
      "metadata": {
        "id": "O0zM1BBC09cN"
      },
      "outputs": [],
      "source": [
        "runner = cuml.benchmark.runners.SpeedupComparisonRunner(\n",
        "    bench_rows=SMALL_ROW_SIZES,\n",
        "    bench_dims=SKINNY_FEATURES,\n",
        "    dataset_name=DATA_CLASSIFICATION,\n",
        "    input_type=INPUT_TYPE,\n",
        "    n_reps=N_REPS\n",
        ")\n",
        "\n",
        "# Due to extreme high runtime, the CPU benchmark\n",
        "# is disabled. Use run_cpu=True to re-enable.\n",
        "\n",
        "execute_benchmark(\"SVC-Linear\", runner, run_cpu=True)"
      ]
    },
    {
      "cell_type": "markdown",
      "metadata": {
        "id": "HzFd22-W09cN"
      },
      "source": [
        "### SVC - RBF Kernel<a id=\"svc_rbf_kernel\"/>"
      ]
    },
    {
      "cell_type": "code",
      "execution_count": null,
      "metadata": {
        "id": "ZBpeUyMI09cN"
      },
      "outputs": [],
      "source": [
        "runner = cuml.benchmark.runners.SpeedupComparisonRunner(\n",
        "    bench_rows=SMALL_ROW_SIZES,\n",
        "    bench_dims=SKINNY_FEATURES,\n",
        "    dataset_name=DATA_CLASSIFICATION,\n",
        "    input_type=INPUT_TYPE,\n",
        "    n_reps=N_REPS\n",
        ")\n",
        "\n",
        "# Due to extreme high runtime, the CPU benchmark\n",
        "# is disabled. Use run_cpu=True to re-enable.\n",
        "\n",
        "execute_benchmark(\"SVC-RBF\", runner, run_cpu=True)"
      ]
    },
    {
      "cell_type": "markdown",
      "metadata": {
        "id": "V_BOoqAI09cN"
      },
      "source": [
        "### SVR - Linear Kernel<a id=\"svr_linear_kernel\"/>"
      ]
    },
    {
      "cell_type": "code",
      "execution_count": null,
      "metadata": {
        "id": "9era2Tx809cN"
      },
      "outputs": [],
      "source": [
        "runner = cuml.benchmark.runners.SpeedupComparisonRunner(\n",
        "    bench_rows=SMALL_ROW_SIZES,\n",
        "    bench_dims=SKINNY_FEATURES,\n",
        "    dataset_name=DATA_REGRESSION,\n",
        "    input_type=INPUT_TYPE,\n",
        "    n_reps=N_REPS\n",
        ")\n",
        "\n",
        "# Due to extreme high runtime, the CPU benchmark\n",
        "# is disabled. Use run_cpu=True to re-enable.\n",
        "\n",
        "execute_benchmark(\"SVR-Linear\", runner, run_cpu=False)"
      ]
    },
    {
      "cell_type": "markdown",
      "metadata": {
        "id": "rKQzX8SI09cN"
      },
      "source": [
        "### SVR - RBF Kernel<a id=\"svr_rbf_kernel\"/>"
      ]
    },
    {
      "cell_type": "code",
      "execution_count": null,
      "metadata": {
        "id": "Yl16pPHf09cO"
      },
      "outputs": [],
      "source": [
        "runner = cuml.benchmark.runners.SpeedupComparisonRunner(\n",
        "    bench_rows=SMALL_ROW_SIZES,\n",
        "    bench_dims=SKINNY_FEATURES,\n",
        "    dataset_name=DATA_REGRESSION,\n",
        "    input_type=INPUT_TYPE,\n",
        "    n_reps=N_REPS\n",
        ")\n",
        "\n",
        "execute_benchmark(\"SVR-RBF\", runner)"
      ]
    },
    {
      "cell_type": "markdown",
      "metadata": {
        "id": "C48wifnX09cO"
      },
      "source": [
        "## Charting & Storing Results<a id=\"charting_and_storing_results\"/>"
      ]
    },
    {
      "cell_type": "markdown",
      "metadata": {
        "id": "lsdUId3C09cO"
      },
      "source": [
        "### Convert Results to Pandas DataFrame<a id=\"convert_to_pandas\"/>"
      ]
    },
    {
      "cell_type": "code",
      "execution_count": null,
      "metadata": {
        "id": "9HEjJ56U09cO"
      },
      "outputs": [],
      "source": [
        "%matplotlib inline"
      ]
    },
    {
      "cell_type": "code",
      "execution_count": null,
      "metadata": {
        "id": "-0KUfPE509cO"
      },
      "outputs": [],
      "source": [
        "df = pd.DataFrame(benchmark_results)"
      ]
    },
    {
      "cell_type": "markdown",
      "metadata": {
        "id": "L_Hcoo2H09cO"
      },
      "source": [
        "### Chart Results<a id=\"chart_results\"/>"
      ]
    },
    {
      "cell_type": "code",
      "execution_count": null,
      "metadata": {
        "id": "WHaTbKmA09cO"
      },
      "outputs": [],
      "source": [
        "def chart_single_algo_speedup(df, algorithm):\n",
        "    df = df.loc[df.algo == algorithm]\n",
        "    df = df.pivot(index=\"n_samples\", columns=\"n_features\", values=\"speedup\")\n",
        "    axes = df.plot.bar(title=\"%s Speedup\" % algorithm)"
      ]
    },
    {
      "cell_type": "code",
      "execution_count": null,
      "metadata": {
        "id": "SJlXz_-J09cP"
      },
      "outputs": [],
      "source": [
        "def chart_all_algo_speedup(df):\n",
        "    df = df[[\"algo\", \"n_samples\", \"speedup\"]].groupby([\"algo\", \"n_samples\"]).mean()\n",
        "    df.plot.bar()"
      ]
    },
    {
      "cell_type": "code",
      "execution_count": null,
      "metadata": {
        "id": "ouVr8Ni709cP"
      },
      "outputs": [],
      "source": [
        "chart_single_algo_speedup(df, \"LinearRegression\")"
      ]
    },
    {
      "cell_type": "code",
      "execution_count": null,
      "metadata": {
        "id": "TOewPZpu09cP"
      },
      "outputs": [],
      "source": [
        "chart_all_algo_speedup(df)"
      ]
    },
    {
      "cell_type": "markdown",
      "metadata": {
        "id": "NaffQqSm09cP"
      },
      "source": [
        "### Output Results to CSV<a id=\"output_csv\"/>"
      ]
    },
    {
      "cell_type": "code",
      "execution_count": null,
      "metadata": {
        "id": "8ZVEXu-i09cP"
      },
      "outputs": [],
      "source": [
        "df.to_csv(\"benchmark_results.csv\")"
      ]
    },
    {
      "cell_type": "code",
      "source": [],
      "metadata": {
        "id": "jxzeq0jD8qhh"
      },
      "execution_count": null,
      "outputs": []
    }
  ],
  "metadata": {
    "kernelspec": {
      "display_name": "Python 3",
      "name": "python3"
    },
    "language_info": {
      "codemirror_mode": {
        "name": "ipython",
        "version": 3
      },
      "file_extension": ".py",
      "mimetype": "text/x-python",
      "name": "python",
      "nbconvert_exporter": "python",
      "pygments_lexer": "ipython3",
      "version": "3.7.7"
    },
    "colab": {
      "name": "cuml_benchmarks.ipynb",
      "provenance": [],
      "gpuType": "T4"
    },
    "accelerator": "GPU"
  },
  "nbformat": 4,
  "nbformat_minor": 0
}