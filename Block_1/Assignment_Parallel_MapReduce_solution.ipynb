{
 "cells": [
  {
   "cell_type": "markdown",
   "metadata": {
    "id": "Oc_EC0nDo7cW"
   },
   "source": [
    "# Ex 1.2: A simple parallel MapReduce framework in Python\n",
    "Now we use the [*multiprocessing*](https://docs.python.org/3/library/multiprocessing.html) lib to actually do things in parallel"
   ]
  },
  {
   "cell_type": "code",
   "execution_count": 1,
   "metadata": {
    "colab": {
     "base_uri": "https://localhost:8080/"
    },
    "id": "sM5y0zbvqvDC",
    "outputId": "eb972b3e-edfa-4305-ce00-ed45d77a40f6"
   },
   "outputs": [
    {
     "name": "stdout",
     "output_type": "stream",
     "text": [
      "Cloning into 'DATA'...\n",
      "remote: Enumerating objects: 101, done.\u001b[K\n",
      "remote: Counting objects: 100% (14/14), done.\u001b[K\n",
      "remote: Compressing objects: 100% (12/12), done.\u001b[K\n",
      "remote: Total 101 (delta 2), reused 14 (delta 2), pack-reused 87\u001b[K\n",
      "Receiving objects: 100% (101/101), 146.44 MiB | 15.14 MiB/s, done.\n",
      "Resolving deltas: 100% (23/23), done.\n",
      "Checking out files: 100% (69/69), done.\n"
     ]
    }
   ],
   "source": [
    "#get data from GitHub -> https://github.com/keuperj/DATA\n",
    "!git clone https://github.com/keuperj/DATA.git"
   ]
  },
  {
   "cell_type": "code",
   "execution_count": 2,
   "metadata": {
    "id": "pUNExqc8o7cc"
   },
   "outputs": [],
   "source": [
    "import collections\n",
    "import itertools\n",
    "import multiprocessing\n",
    "\n",
    "\n",
    "class SimpleMapReduce:\n",
    "\n",
    "    def __init__(self, map_func, reduce_func, num_workers=None):\n",
    "        \"\"\"\n",
    "        map_func\n",
    "\n",
    "          Function to map inputs to intermediate data. Takes as\n",
    "          argument one input value and returns a tuple with the\n",
    "          key and a value to be reduced.\n",
    "\n",
    "        reduce_func\n",
    "\n",
    "          Function to reduce partitioned version of intermediate\n",
    "          data to final output. Takes as argument a key as\n",
    "          produced by map_func and a sequence of the values\n",
    "          associated with that key.\n",
    "\n",
    "        num_workers\n",
    "\n",
    "          The number of workers to create in the pool. Defaults\n",
    "          to the number of CPUs available on the current host.\n",
    "        \"\"\"\n",
    "        self.map_func = map_func\n",
    "        self.reduce_func = reduce_func\n",
    "        self.pool = multiprocessing.Pool(num_workers)\n",
    "\n",
    "    def partition(self, mapped_values):\n",
    "        \"\"\"Organize the mapped values by their key.\n",
    "        Returns an unsorted sequence of tuples with a key\n",
    "        and a sequence of values.\n",
    "        \"\"\"\n",
    "        partitioned_data = collections.defaultdict(list)\n",
    "        for key, value in mapped_values:\n",
    "            partitioned_data[key].append(value)\n",
    "        return partitioned_data.items()\n",
    "\n",
    "    def __call__(self, inputs, chunksize=1):\n",
    "        \"\"\"Process the inputs through the map and reduce functions\n",
    "        given.\n",
    "\n",
    "        inputs\n",
    "          An iterable containing the input data to be processed.\n",
    "\n",
    "        chunksize=1\n",
    "          The portion of the input data to hand to each worker.\n",
    "          This can be used to tune performance during the mapping\n",
    "          phase.\n",
    "        \"\"\"\n",
    "        map_responses = self.pool.map(\n",
    "            self.map_func,\n",
    "            inputs,\n",
    "            chunksize=chunksize,\n",
    "        )\n",
    "        partitioned_data = self.partition(\n",
    "            itertools.chain(*map_responses)\n",
    "        )\n",
    "        reduced_values = self.pool.map(\n",
    "            self.reduce_func,\n",
    "            partitioned_data,\n",
    "        )\n",
    "        return reduced_values"
   ]
  },
  {
   "cell_type": "markdown",
   "metadata": {
    "id": "eG28bh0po7cg"
   },
   "source": [
    "### A Word Count example"
   ]
  },
  {
   "cell_type": "code",
   "execution_count": 3,
   "metadata": {
    "id": "eMjt8F-qo7ci"
   },
   "outputs": [],
   "source": [
    "import string\n",
    "\n",
    "# map - read file and count words\n",
    "def file_to_words(filename):\n",
    "    \"\"\"Read a file and return a sequence of\n",
    "    (word, occurences) values.\n",
    "    \"\"\"\n",
    "    STOP_WORDS = set([\n",
    "        'a', 'an', 'and', 'are', 'as', 'be', 'by', 'for', 'if',\n",
    "        'in', 'is', 'it', 'of', 'or', 'py', 'rst', 'that', 'the',\n",
    "        'to', 'with',\n",
    "    ])\n",
    "    TR = str.maketrans({\n",
    "        p: ' '\n",
    "        for p in string.punctuation\n",
    "    })\n",
    "\n",
    "    print('{} reading {}'.format(\n",
    "        multiprocessing.current_process().name, filename))\n",
    "    output = []\n",
    "\n",
    "    with open(filename, 'rt') as f:\n",
    "        for line in f:\n",
    "            # Skip comment lines.\n",
    "            if line.lstrip().startswith('..'):\n",
    "                continue\n",
    "            line = line.translate(TR)  # Strip punctuation\n",
    "            for word in line.split():\n",
    "                word = word.lower()\n",
    "                if word.isalpha() and word not in STOP_WORDS:\n",
    "                    output.append((word, 1))\n",
    "    return output\n",
    "\n",
    "# reduce\n",
    "def count_words(item):\n",
    "    \"\"\"Convert the partitioned data for a word to a\n",
    "    tuple containing the word and the number of occurences.\n",
    "    \"\"\"\n",
    "    word, occurences = item\n",
    "    return (word, sum(occurences))"
   ]
  },
  {
   "cell_type": "code",
   "execution_count": 4,
   "metadata": {
    "colab": {
     "base_uri": "https://localhost:8080/"
    },
    "id": "_Tr2rPfEo7cj",
    "outputId": "930cea79-47f4-4fb8-e853-b02dfa32efde"
   },
   "outputs": [
    {
     "name": "stdout",
     "output_type": "stream",
     "text": [
      "ForkPoolWorker-1 reading DATA/text3.rst\n",
      "ForkPoolWorker-3 reading DATA/text2.rstForkPoolWorker-4 reading DATA/text1.rstForkPoolWorker-2 reading DATA/text4.rst\n",
      "\n",
      "\n",
      "\n",
      "TOP 20 WORDS BY FREQUENCY\n",
      "\n",
      "my    :    67\n",
      "i     :    60\n",
      "her   :    43\n",
      "he    :    41\n",
      "quiz  :    33\n",
      "was   :    28\n",
      "quick :    28\n",
      "his   :    23\n",
      "fox   :    22\n",
      "she   :    21\n",
      "from  :    20\n",
      "when  :    20\n",
      "blind :    19\n",
      "would :    18\n",
      "so    :    18\n",
      "but   :    18\n",
      "have  :    18\n",
      "vex   :    18\n",
      "on    :    17\n",
      "which :    16\n"
     ]
    }
   ],
   "source": [
    "import operator\n",
    "import glob #easy file access\n",
    "\n",
    "input_files = glob.glob('DATA/*.rst')#get all text files names \n",
    "\n",
    "mapper = SimpleMapReduce(file_to_words, count_words)#get mapreduce instance with custom map and reduce functions\n",
    "word_counts = mapper(input_files)#call parallel mapreduce on files\n",
    "\n",
    "word_counts.sort(key=operator.itemgetter(1))#sort results\n",
    "word_counts.reverse()\n",
    "\n",
    "print('\\nTOP 20 WORDS BY FREQUENCY\\n')\n",
    "top20 = word_counts[:20]\n",
    "longest = max((len(word) for word, count in top20),default=0)\n",
    "for word, count in top20:\n",
    "    print('{word:<{len}}: {count:5}'.format(\n",
    "            len=longest + 1,\n",
    "            word=word,\n",
    "            count=count)\n",
    "    )"
   ]
  },
  {
   "cell_type": "markdown",
   "metadata": {
    "id": "HMrnb1Bjo7cm"
   },
   "source": [
    "## K-Means implementation\n",
    "Use the simple frame work to implement K-Means"
   ]
  },
  {
   "cell_type": "code",
   "execution_count": 5,
   "metadata": {
    "id": "f4BFvoHlo7cn"
   },
   "outputs": [],
   "source": [
    "import numpy as np\n",
    "import matplotlib.pyplot as plt\n",
    "\n",
    "from sklearn.cluster import KMeans\n",
    "from sklearn.datasets import make_blobs"
   ]
  },
  {
   "cell_type": "code",
   "execution_count": 6,
   "metadata": {
    "colab": {
     "base_uri": "https://localhost:8080/",
     "height": 283
    },
    "id": "dIQQHLbuo7co",
    "outputId": "6250fef6-da29-4a9e-d4a1-309f988635b8"
   },
   "outputs": [
    {
     "data": {
      "text/plain": [
       "<matplotlib.collections.PathCollection at 0x7f9fb804c160>"
      ]
     },
     "execution_count": 6,
     "metadata": {},
     "output_type": "execute_result"
    },
    {
     "data": {
      "image/png": "[encoded data removed]",
      "text/plain": [
       "<Figure size 432x288 with 1 Axes>"
      ]
     },
     "metadata": {
      "needs_background": "light"
     },
     "output_type": "display_data"
    }
   ],
   "source": [
    "#generate data with K=4\n",
    "X, y = make_blobs(n_samples=1500, centers=4)\n",
    "plt.scatter(X[:, 0], X[:, 1])"
   ]
  },
  {
   "cell_type": "code",
   "execution_count": 7,
   "metadata": {
    "colab": {
     "base_uri": "https://localhost:8080/",
     "height": 283
    },
    "id": "hBFAQEzfo7cp",
    "outputId": "e74ef0b6-3769-4dc6-c64a-b1a927631825"
   },
   "outputs": [
    {
     "data": {
      "text/plain": [
       "<matplotlib.collections.PathCollection at 0x7f9fb633fdf0>"
      ]
     },
     "execution_count": 7,
     "metadata": {},
     "output_type": "execute_result"
    },
    {
     "data": {
      "image/png": "[encoded data removed]",
      "text/plain": [
       "<Figure size 432x288 with 1 Axes>"
      ]
     },
     "metadata": {
      "needs_background": "light"
     },
     "output_type": "display_data"
    }
   ],
   "source": [
    "#K-Means ref implementation\n",
    "k = KMeans(n_clusters=4)\n",
    "y_pred = k.fit_predict(X)\n",
    "\n",
    "plt.scatter(X[:, 0], X[:, 1], c=y_pred)"
   ]
  },
  {
   "cell_type": "code",
   "execution_count": 8,
   "metadata": {
    "colab": {
     "base_uri": "https://localhost:8080/"
    },
    "id": "oL0yXKCho7cq",
    "outputId": "0a4ab73c-e77d-49ec-cd21-7240eac770c6"
   },
   "outputs": [
    {
     "data": {
      "text/plain": [
       "array([[-8.38331199,  2.33527075],\n",
       "       [ 2.97948825,  9.00852016],\n",
       "       [-1.68652439,  4.15469911],\n",
       "       [-6.51417233,  2.75699154]])"
      ]
     },
     "execution_count": 8,
     "metadata": {},
     "output_type": "execute_result"
    }
   ],
   "source": [
    "k.cluster_centers_"
   ]
  },
  {
   "cell_type": "code",
   "execution_count": 14,
   "metadata": {
    "colab": {
     "base_uri": "https://localhost:8080/"
    },
    "id": "1u8iCvYzo7cr",
    "outputId": "2d489a03-92ea-4037-f575-7124998271f7"
   },
   "outputs": [
    {
     "data": {
      "text/plain": [
       "(4, 2)"
      ]
     },
     "execution_count": 14,
     "metadata": {},
     "output_type": "execute_result"
    }
   ],
   "source": [
    "np.shape(k.cluster_centers_)"
   ]
  },
  {
   "cell_type": "code",
   "execution_count": 9,
   "metadata": {
    "id": "PTMmVlZao7cs"
   },
   "outputs": [],
   "source": [
    "#implement map -> assign data to center \n",
    "def kMap( data, centers):\n",
    "    #print('{} mapping {}'.format(\n",
    "    #    multiprocessing.current_process().name, data))\n",
    "    output=[]\n",
    "    center = 0\n",
    "    min_dist = 999999999\n",
    "    for c in range(np.shape(centers)[0]):\n",
    "            dist = (data[0]-centers[c][0])*(data[0]-centers[c][0]) + (data[1]-centers[c][1])*(data[1]-centers[c][1])\n",
    "            dist=np.sqrt(dist) \n",
    "            if dist<min_dist:\n",
    "                min_dist=dist\n",
    "                center = c\n",
    "    output.append((center,data)) #map to tuple of center ID and data\n",
    "    \n",
    "    return output\n"
   ]
  },
  {
   "cell_type": "code",
   "execution_count": 10,
   "metadata": {
    "id": "WAhJI28Ko7ct"
   },
   "outputs": [],
   "source": [
    "#implement reduce -> compute new centers\n",
    "def kReduce( item, centers ):\n",
    "    #print('{} reducing {}'.format(\n",
    "    #    multiprocessing.current_process().name, item))\n",
    "    center = item[1][0]\n",
    "    \n",
    "    for i in range(np.shape(item[1])[0]):\n",
    "        center += item[1][i]\n",
    "    \n",
    "    center/=np.shape(item[1])[0]\n",
    "    return center\n"
   ]
  },
  {
   "cell_type": "code",
   "execution_count": 11,
   "metadata": {
    "colab": {
     "base_uri": "https://localhost:8080/"
    },
    "id": "8S-wwOiho7cu",
    "outputId": "02490d99-ce80-4bf1-89bf-e4782d456885"
   },
   "outputs": [
    {
     "name": "stdout",
     "output_type": "stream",
     "text": [
      "init center [[ 2.42024977  8.4700207 ]\n",
      " [ 1.18346865  8.8291242 ]\n",
      " [ 0.78580709  3.28928058]\n",
      " [-6.6176067   2.60818652]]\n"
     ]
    }
   ],
   "source": [
    "#init centers\n",
    "center = X[np.random.randint(X.shape[0], size=4), :]#get 4 random datapoints\n",
    "print('init center', center)"
   ]
  },
  {
   "cell_type": "code",
   "execution_count": 12,
   "metadata": {
    "id": "v8uhEysVo7cv"
   },
   "outputs": [],
   "source": [
    "#use framework\n",
    "from functools import partial\n",
    "mapper = SimpleMapReduce(partial(kMap,centers=center), partial(kReduce, centers=center))#get mapreduce instance with custom map and reduce functions\n",
    "new_center = mapper(X)#call parallel mapreduce oo data"
   ]
  },
  {
   "cell_type": "code",
   "execution_count": 13,
   "metadata": {
    "colab": {
     "base_uri": "https://localhost:8080/"
    },
    "id": "2WByOMa8o7cw",
    "outputId": "17bfbf67-9c85-4c6b-b081-7f6260c90703"
   },
   "outputs": [
    {
     "data": {
      "text/plain": [
       "[array([3.26820899, 8.92246865]),\n",
       " array([1.34212801, 9.44622114]),\n",
       " array([-1.51277097,  4.1338147 ]),\n",
       " array([-7.25341214,  2.62351441])]"
      ]
     },
     "execution_count": 13,
     "metadata": {},
     "output_type": "execute_result"
    }
   ],
   "source": [
    "new_center #new centers "
   ]
  },
  {
   "cell_type": "code",
   "execution_count": null,
   "metadata": {
    "id": "gCMh5mG6o7cx"
   },
   "outputs": [],
   "source": [
    "#now run int in a loop to get K-Means iterations ...\n"
   ]
  },
  {
   "cell_type": "code",
   "execution_count": null,
   "metadata": {
    "id": "jjiWAaWEo7cx"
   },
   "outputs": [],
   "source": []
  }
 ],
 "metadata": {
  "colab": {
   "name": "Assignment_Parallel_MapReduce_solution.ipynb",
   "provenance": []
  },
  "kernelspec": {
   "display_name": "Python 3 (ipykernel)",
   "language": "python",
   "name": "python3"
  },
  "language_info": {
   "codemirror_mode": {
    "name": "ipython",
    "version": 3
   },
   "file_extension": ".py",
   "mimetype": "text/x-python",
   "name": "python",
   "nbconvert_exporter": "python",
   "pygments_lexer": "ipython3",
   "version": "3.9.12"
  }
 },
 "nbformat": 4,
 "nbformat_minor": 1
}
