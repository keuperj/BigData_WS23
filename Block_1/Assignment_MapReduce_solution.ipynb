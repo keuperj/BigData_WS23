{
 "cells": [
  {
   "cell_type": "markdown",
   "metadata": {
    "id": "LJtNXYQso6OY"
   },
   "source": [
    "# Ex 1.1: MapReduce with Python Functional Programming"
   ]
  },
  {
   "cell_type": "markdown",
   "metadata": {
    "id": "O1Uf4GaFo6Oe"
   },
   "source": [
    "#### Python *map* function\n",
    "Python has e built in *map* function -> [see python docs](https://docs.python.org/3/library/functions.html#map)\n",
    "* ``map(function, iterable object)`` applies a function to every member of the object (=data structure)\n",
    "* iterable objects are e.g. lists, dicts, arrays, ... but also custom data structures (see [here](https://thispointer.com/python-how-to-make-a-class-iterable-create-iterator-class-for-it/))"
   ]
  },
  {
   "cell_type": "code",
   "execution_count": 1,
   "metadata": {
    "colab": {
     "base_uri": "https://localhost:8080/"
    },
    "id": "A3gZjBLRo6Og",
    "outputId": "ae69f8c6-da46-4c86-bd97-2fdf0921f490"
   },
   "outputs": [
    {
     "name": "stdout",
     "output_type": "stream",
     "text": [
      "[1, 2, 3, 4]\n",
      "[2, 3, 4, 5]\n"
     ]
    }
   ],
   "source": [
    "#example\n",
    "def Plus1(a):\n",
    "    return a+1\n",
    "\n",
    "A = [1,2,3,4]\n",
    "print(A)\n",
    "B = list(map(Plus1,A)) #need to cast map output to list\n",
    "print(B)"
   ]
  },
  {
   "cell_type": "code",
   "execution_count": 2,
   "metadata": {
    "colab": {
     "base_uri": "https://localhost:8080/"
    },
    "id": "x-pFzx5Eo6Oj",
    "outputId": "c1c9ecaa-d262-4dba-c2af-5102fe99bd71"
   },
   "outputs": [
    {
     "name": "stdout",
     "output_type": "stream",
     "text": [
      "[1, 2, 3, 4]\n",
      "[3, 4, 5, 6]\n",
      "[2, 3, 6, 7]\n"
     ]
    }
   ],
   "source": [
    "#example 2 - map with an function that takes arguments\n",
    "from functools import partial\n",
    "\n",
    "def PlusX(a,x):\n",
    "    return a+x\n",
    "\n",
    "\n",
    "A = [1,2,3,4]\n",
    "print(A)\n",
    "B = list(map(partial(PlusX,x=2),A)) #use partial to fix parameters \n",
    "print(B)\n",
    "\n",
    "C = [1,1,3,3]\n",
    "D = list(map(PlusX,A,C)) #or input multiple iterable objects\n",
    "print(D)"
   ]
  },
  {
   "cell_type": "code",
   "execution_count": 3,
   "metadata": {
    "colab": {
     "base_uri": "https://localhost:8080/"
    },
    "id": "pRHObImbo6Ol",
    "outputId": "83011e0d-02ad-471d-d867-034cde87ef0e"
   },
   "outputs": [
    {
     "name": "stdout",
     "output_type": "stream",
     "text": [
      "[2, 3, 4, 5]\n"
     ]
    }
   ],
   "source": [
    "#example 3 - map with lmbda functions\n",
    "A = [1,2,3,4]\n",
    "B = list(map(lambda x:x+1,A ))#implement function directly with lambda\n",
    "print(B)"
   ]
  },
  {
   "cell_type": "code",
   "execution_count": 4,
   "metadata": {
    "colab": {
     "base_uri": "https://localhost:8080/"
    },
    "id": "nnxzeuNMo6Om",
    "outputId": "945d6671-b572-42b1-e584-3050ef223853"
   },
   "outputs": [
    {
     "data": {
      "text/plain": [
       "array([[16.08991804,  2.45633616,  4.84235746,  9.75856918,  5.21781499,\n",
       "         9.29737216, 12.73010486, 13.95852716, 11.73604864,  7.6968924 ],\n",
       "       [ 0.25945422,  6.58450033, 18.5329636 , 10.27513241,  2.41660571,\n",
       "         6.20533256,  9.38559505, 18.96176013,  7.74463549, 19.82352249],\n",
       "       [ 2.79406468,  6.8278246 , 10.33110593,  8.18784487,  4.20679158,\n",
       "         2.36926676, 11.6944333 ,  1.72245056, 14.44650433,  2.32463129],\n",
       "       [ 5.19762556, 13.94110581, 16.67775992,  4.6579807 , 18.7409612 ,\n",
       "         7.689787  , 18.15725019,  9.03676281,  2.57226607, 12.88036049],\n",
       "       [15.46915726,  7.11234801,  9.72842252,  3.54108751, 18.77721011,\n",
       "        15.98213865, 11.85514133, 19.90486193,  1.00683023,  5.54892439],\n",
       "       [11.34668197, 17.53609139,  4.7449966 ,  8.16256949, 13.12361741,\n",
       "        11.32957832, 14.98956715, 14.91740261, 18.36196807, 11.97622222],\n",
       "       [ 4.77871732,  6.19998523,  1.92227753, 17.93982826,  9.23089312,\n",
       "         2.85926584, 16.1072722 , 18.92864328,  3.48853549,  3.09035918],\n",
       "       [10.0202443 ,  0.34436547,  1.74014087, 18.59037528, 13.62785707,\n",
       "        19.23691105, 18.16718307, 13.33930384, 14.17153381,  9.23256481],\n",
       "       [ 9.73851733, 18.45091334, 14.79736805, 17.48779514,  2.47494833,\n",
       "         2.14121117, 18.20407894,  2.60571364, 15.09177491, 19.74348741],\n",
       "       [14.09929416, 14.58721801, 13.41715134,  5.77144264, 17.23668171,\n",
       "         2.20848414, 18.68623113,  6.35922558,  6.66219199,  6.25550269]])"
      ]
     },
     "execution_count": 4,
     "metadata": {},
     "output_type": "execute_result"
    }
   ],
   "source": [
    "#example 4 - Numpy has map \"build in\"\n",
    "import numpy as np\n",
    "A = np.random.rand(10,10)*20\n",
    "A"
   ]
  },
  {
   "cell_type": "code",
   "execution_count": 5,
   "metadata": {
    "id": "aC3TOnqEo6On"
   },
   "outputs": [],
   "source": [
    "#apply function directly on each element of an array\n",
    "def isLarger10(x):\n",
    "    return x>10\n",
    "\n",
    "B = isLarger10(A)"
   ]
  },
  {
   "cell_type": "code",
   "execution_count": 6,
   "metadata": {
    "colab": {
     "base_uri": "https://localhost:8080/"
    },
    "id": "fqTtGPIKo6Op",
    "outputId": "a36d049a-69cc-4be4-8978-228206539346"
   },
   "outputs": [
    {
     "data": {
      "text/plain": [
       "array([[ True, False, False, False, False, False,  True,  True,  True,\n",
       "        False],\n",
       "       [False, False,  True,  True, False, False, False,  True, False,\n",
       "         True],\n",
       "       [False, False,  True, False, False, False,  True, False,  True,\n",
       "        False],\n",
       "       [False,  True,  True, False,  True, False,  True, False, False,\n",
       "         True],\n",
       "       [ True, False, False, False,  True,  True,  True,  True, False,\n",
       "        False],\n",
       "       [ True,  True, False, False,  True,  True,  True,  True,  True,\n",
       "         True],\n",
       "       [False, False, False,  True, False, False,  True,  True, False,\n",
       "        False],\n",
       "       [ True, False, False,  True,  True,  True,  True,  True,  True,\n",
       "        False],\n",
       "       [False,  True,  True,  True, False, False,  True, False,  True,\n",
       "         True],\n",
       "       [ True,  True,  True, False,  True, False,  True, False, False,\n",
       "        False]])"
      ]
     },
     "execution_count": 6,
     "metadata": {},
     "output_type": "execute_result"
    }
   ],
   "source": [
    "B"
   ]
  },
  {
   "cell_type": "markdown",
   "metadata": {
    "id": "6tzCxi0-o6Oq"
   },
   "source": [
    "#### *Reduce* in Python\n",
    "*functools* also provides a *reduce* function. Again, it will take a function and one ore more iterable objects as arguments. (see [API](https://docs.python.org/3/library/functools.html#functools.reduce))"
   ]
  },
  {
   "cell_type": "code",
   "execution_count": 7,
   "metadata": {
    "colab": {
     "base_uri": "https://localhost:8080/"
    },
    "id": "5cElHIjpo6Or",
    "outputId": "d612c78d-a1dd-4c68-af92-db4abeaf9c11"
   },
   "outputs": [
    {
     "name": "stdout",
     "output_type": "stream",
     "text": [
      "The sum of the list elements is : 17\n",
      "The maximum element of the list is : 6\n"
     ]
    }
   ],
   "source": [
    "# importing functools for reduce() \n",
    "import functools \n",
    "  \n",
    "# initializing list \n",
    "lis = [ 1 , 3, 5, 6, 2, ] \n",
    "  \n",
    "def addIt(a,b):\n",
    "    return a+b\n",
    "\n",
    "# using reduce to compute sum of list \n",
    "print (\"The sum of the list elements is : \",end=\"\") \n",
    "print (functools.reduce(addIt,lis)) \n",
    "  \n",
    "# using reduce to compute maximum element from list \n",
    "print (\"The maximum element of the list is : \",end=\"\") \n",
    "print (functools.reduce(lambda a,b : a if a > b else b,lis)) "
   ]
  },
  {
   "cell_type": "markdown",
   "metadata": {
    "id": "7CJ6XvzMo6Os"
   },
   "source": [
    "#### Splitting"
   ]
  },
  {
   "cell_type": "code",
   "execution_count": 8,
   "metadata": {
    "colab": {
     "base_uri": "https://localhost:8080/"
    },
    "id": "J3IOBedno6Ot",
    "outputId": "3aae0aa1-573a-4247-aff5-3a33be639704"
   },
   "outputs": [
    {
     "ename": "ModuleNotFoundError",
     "evalue": "No module named 'more_itertools'",
     "output_type": "error",
     "traceback": [
      "\u001b[0;31m---------------------------------------------------------------------------\u001b[0m",
      "\u001b[0;31mModuleNotFoundError\u001b[0m                       Traceback (most recent call last)",
      "Input \u001b[0;32mIn [8]\u001b[0m, in \u001b[0;36m<cell line: 1>\u001b[0;34m()\u001b[0m\n\u001b[0;32m----> 1\u001b[0m \u001b[38;5;28;01mimport\u001b[39;00m \u001b[38;5;21;01mmore_itertools\u001b[39;00m \u001b[38;5;28;01mas\u001b[39;00m \u001b[38;5;21;01mmit\u001b[39;00m\n\u001b[1;32m      3\u001b[0m A\u001b[38;5;241m=\u001b[39m[\u001b[38;5;241m1\u001b[39m,\u001b[38;5;241m2\u001b[39m,\u001b[38;5;241m3\u001b[39m,\u001b[38;5;241m4\u001b[39m,\u001b[38;5;241m5\u001b[39m,\u001b[38;5;241m6\u001b[39m,\u001b[38;5;241m7\u001b[39m,\u001b[38;5;241m8\u001b[39m,\u001b[38;5;241m9\u001b[39m]\n\u001b[1;32m      4\u001b[0m B\u001b[38;5;241m=\u001b[39m\u001b[38;5;28mlist\u001b[39m(mit\u001b[38;5;241m.\u001b[39mchunked(A, \u001b[38;5;241m3\u001b[39m)) \u001b[38;5;66;03m#split into lists of max size 3\u001b[39;00m\n",
      "\u001b[0;31mModuleNotFoundError\u001b[0m: No module named 'more_itertools'"
     ]
    }
   ],
   "source": [
    "import more_itertools as mit\n",
    "\n",
    "A=[1,2,3,4,5,6,7,8,9]\n",
    "B=list(mit.chunked(A, 3)) #split into lists of max size 3\n",
    "\n",
    "for i in B: #iterate over the spitts \n",
    "    print(i)"
   ]
  },
  {
   "cell_type": "code",
   "execution_count": null,
   "metadata": {
    "colab": {
     "base_uri": "https://localhost:8080/"
    },
    "id": "eWkg9b1fo6Ou",
    "outputId": "74683780-ff30-48cd-c7e3-5d5c3c6e5f7a"
   },
   "outputs": [],
   "source": [
    "A='this is a short text in form of a python string'\n",
    "B=list(mit.chunked(A, 5)) #split into lists of max size 5\n",
    "\n",
    "for i in B: #iterate over the spitts \n",
    "    print(i)"
   ]
  },
  {
   "cell_type": "markdown",
   "metadata": {
    "id": "xHhofr13o6Ou"
   },
   "source": [
    "## Exercise: build a simple *Character Count* Algorithm based on the above *split, map* and *reduce* operators "
   ]
  },
  {
   "cell_type": "code",
   "execution_count": null,
   "metadata": {
    "id": "TCNuR-ZOo6Ov"
   },
   "outputs": [],
   "source": [
    "#some text from NYTimes\n",
    "text = ' Byron Spencer, handing out water and burgers to protesters outside Los Angeles City Hall, said he was both “elated and defeated” by word of the new charges. He said he had seen countless surges of outrage over police brutality against black men, only to have it happen again. “I’m 55, I’m black and I’m male — I’ve seen the cycle,” he said. “It’s almost like PTSD constantly having this conversation with my son.” Cierra Sesay reacted to the charges at a demonstration in the shadow of the State Capitol in Denver. “It’s amazing, it’s another box we can check,” she said. “But it goes up so much higher. It’s about the system.” In San Francisco, Tevita Tomasi — who is of Polynesian descent and described himself as “dark and tall and big” — said he regularly faced racial profiling, evidence of the bigger forces that must be overcome. On Wednesday, he distributed bottled water at what he said was his first demonstration, but one that would not be his last. What would stop him from protesting?'"
   ]
  },
  {
   "cell_type": "markdown",
   "metadata": {
    "id": "37PCa4ZNo6Ow"
   },
   "source": [
    "* HINT: use list pf *python* [dictionaries](https://docs.python.org/3/tutorial/datastructures.html#dictionaries) to store the character counts in the map\n",
    "* HINT 2: merge the dicts in reduce"
   ]
  },
  {
   "cell_type": "code",
   "execution_count": null,
   "metadata": {
    "id": "_seVIKCHo6Ox"
   },
   "outputs": [],
   "source": [
    "def CharCount(char):\n",
    "    return {char:1}"
   ]
  },
  {
   "cell_type": "code",
   "execution_count": null,
   "metadata": {
    "colab": {
     "base_uri": "https://localhost:8080/"
    },
    "id": "VS9yrShZo6Ox",
    "outputId": "df02a070-9fc2-47c2-bd66-163e43b78fbb"
   },
   "outputs": [],
   "source": [
    "#test the count function\n",
    "\n",
    "print(CharCount('a'))\n",
    "print(CharCount('a'))\n",
    "print(CharCount('b'))\n"
   ]
  },
  {
   "cell_type": "code",
   "execution_count": null,
   "metadata": {
    "id": "ZuKSxZV2o6Oy"
   },
   "outputs": [],
   "source": [
    "#now run over the full text\n",
    "mapping=list(map(CharCount,text))"
   ]
  },
  {
   "cell_type": "code",
   "execution_count": null,
   "metadata": {
    "colab": {
     "base_uri": "https://localhost:8080/"
    },
    "id": "A_X_lEs4o6Oz",
    "outputId": "3402551f-2354-404f-d4cb-b4565284881d"
   },
   "outputs": [],
   "source": [
    "mapping[:10]"
   ]
  },
  {
   "cell_type": "code",
   "execution_count": null,
   "metadata": {
    "colab": {
     "base_uri": "https://localhost:8080/"
    },
    "id": "hQL4W8_Qo6Oz",
    "outputId": "295de365-353c-4d7e-95ee-74fea3460186"
   },
   "outputs": [],
   "source": [
    "\n",
    "mapping[500:510]#just show a part of the list of tuples"
   ]
  },
  {
   "cell_type": "code",
   "execution_count": null,
   "metadata": {
    "colab": {
     "base_uri": "https://localhost:8080/",
     "height": 35
    },
    "id": "ZvuwBZDIo6O0",
    "outputId": "2cb175ae-69d4-410a-bd61-a9cd33278954"
   },
   "outputs": [],
   "source": [
    "t={'a':1}\n",
    "list(t.keys())[0]"
   ]
  },
  {
   "cell_type": "code",
   "execution_count": null,
   "metadata": {
    "id": "4PFWkjeyo6O0"
   },
   "outputs": [],
   "source": [
    "\n",
    "def sumUp(a,b): #merge dictionaries - a:output b:single item to be merged\n",
    "    key = list(b.keys())[0] #get the only key in b \n",
    "    if key in a: #check if char is in a\n",
    "        a[key] += 1\n",
    "    else:\n",
    "        a[key] = 1\n",
    "    return a\n",
    "    "
   ]
  },
  {
   "cell_type": "code",
   "execution_count": null,
   "metadata": {
    "colab": {
     "base_uri": "https://localhost:8080/"
    },
    "id": "gS0m486bo6O1",
    "outputId": "9d460601-e8f4-458c-87e7-e8881d2b8939"
   },
   "outputs": [],
   "source": [
    "functools.reduce(sumUp, mapping)\n"
   ]
  },
  {
   "cell_type": "code",
   "execution_count": null,
   "metadata": {
    "id": "GXTk_yZVo6O1"
   },
   "outputs": [],
   "source": []
  }
 ],
 "metadata": {
  "colab": {
   "name": "Assignment_MapReduce_solution.ipynb",
   "provenance": []
  },
  "kernelspec": {
   "display_name": "Python 3 (ipykernel)",
   "language": "python",
   "name": "python3"
  },
  "language_info": {
   "codemirror_mode": {
    "name": "ipython",
    "version": 3
   },
   "file_extension": ".py",
   "mimetype": "text/x-python",
   "name": "python",
   "nbconvert_exporter": "python",
   "pygments_lexer": "ipython3",
   "version": "3.9.12"
  }
 },
 "nbformat": 4,
 "nbformat_minor": 1
}
