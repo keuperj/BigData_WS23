{
  "cells": [
    {
      "cell_type": "markdown",
      "metadata": {
        "id": "d5X6xL5qBp9T"
      },
      "source": [
        "# MapReduce with Python Functional Programming"
      ]
    },
    {
      "cell_type": "markdown",
      "metadata": {
        "id": "BC_-Uf9bBp9W"
      },
      "source": [
        "#### Python *map* function\n",
        "Python has a built in *map* function -> [see python docs](https://docs.python.org/3/library/functions.html#map)\n",
        "* ``map(function, iterable object)`` applies a function to every member of the object (=data structure)\n",
        "* iterable objects are e.g. lists, dicts, arrays, ... but also custom data structures (see [here](https://thispointer.com/python-how-to-make-a-class-iterable-create-iterator-class-for-it/))"
      ]
    },
    {
      "cell_type": "code",
      "execution_count": 1,
      "metadata": {
        "id": "pewUUrXXBp9X",
        "outputId": "8dc6df09-3c87-4eb0-d4a3-015016671b0a",
        "colab": {
          "base_uri": "https://localhost:8080/"
        }
      },
      "outputs": [
        {
          "output_type": "stream",
          "name": "stdout",
          "text": [
            "[1, 2, 3, 4]\n",
            "[2, 3, 4, 5]\n"
          ]
        }
      ],
      "source": [
        "#example\n",
        "def Plus1(a):\n",
        "    return a+1\n",
        "\n",
        "A = [1,2,3,4]\n",
        "print(A)\n",
        "B = list(map(Plus1,A)) #need to cast map output to list\n",
        "print(B)"
      ]
    },
    {
      "cell_type": "code",
      "execution_count": 2,
      "metadata": {
        "id": "IAZlm3uKBp9Z",
        "outputId": "6a43927a-dd58-4589-eed0-d9c41c9318ad",
        "colab": {
          "base_uri": "https://localhost:8080/"
        }
      },
      "outputs": [
        {
          "output_type": "stream",
          "name": "stdout",
          "text": [
            "[1, 2, 3, 4]\n",
            "[3, 4, 5, 6]\n",
            "[2, 3, 6, 7]\n"
          ]
        }
      ],
      "source": [
        "#example 2 - map with an function that takes arguments\n",
        "from functools import partial\n",
        "\n",
        "def PlusX(a,x):\n",
        "    return a+x\n",
        "\n",
        "\n",
        "A = [1,2,3,4]\n",
        "print(A)\n",
        "B = list(map(partial(PlusX,x=2),A)) #use partial to fix parameters \n",
        "print(B)\n",
        "\n",
        "C = [1,1,3,3]\n",
        "D = list(map(PlusX,A,C)) #or input multiple iterable objects\n",
        "print(D)"
      ]
    },
    {
      "cell_type": "code",
      "execution_count": 3,
      "metadata": {
        "id": "2IhEi8SSBp9Z",
        "outputId": "099d8d30-96c7-4070-b00a-57dfdd6fa979",
        "colab": {
          "base_uri": "https://localhost:8080/"
        }
      },
      "outputs": [
        {
          "output_type": "stream",
          "name": "stdout",
          "text": [
            "[2, 3, 4, 5]\n"
          ]
        }
      ],
      "source": [
        "#example 3 - map with lmbda functions\n",
        "A = [1,2,3,4]\n",
        "B = list(map(lambda x:x+1,A ))#implement function directly with lambda\n",
        "print(B)"
      ]
    },
    {
      "cell_type": "code",
      "execution_count": 4,
      "metadata": {
        "id": "DuvyOl2nBp9a",
        "outputId": "3785de98-0bd6-481c-8787-b4826f59dd55",
        "colab": {
          "base_uri": "https://localhost:8080/"
        }
      },
      "outputs": [
        {
          "output_type": "execute_result",
          "data": {
            "text/plain": [
              "array([[19.70775198,  5.59940812,  5.3958327 ,  3.78000444, 16.13944458,\n",
              "        17.36376804, 11.19430319,  4.07818454, 16.31751423, 12.72574184],\n",
              "       [ 3.95524137, 12.43469331, 12.44522366, 12.37816196, 10.43106273,\n",
              "         1.98295539,  2.87499482,  2.90801647, 15.35567021, 14.40412843],\n",
              "       [17.25385489, 18.08559622,  1.36706811, 13.56376041,  3.32017158,\n",
              "        12.90201108, 12.39814667,  4.67827985, 19.64394945,  1.73290173],\n",
              "       [12.42240465, 12.08090688,  8.42839516, 14.39386619, 16.891211  ,\n",
              "         8.06092163, 10.73687528,  6.63944006, 11.36327507,  8.55935381],\n",
              "       [14.25382794,  5.13861415,  2.61393759, 12.33723515, 12.78389496,\n",
              "         5.33416042,  1.50952578,  8.13584788,  0.734118  ,  0.9742196 ],\n",
              "       [14.19645603, 19.84101871,  9.78772775,  5.34242781,  0.33246035,\n",
              "        17.30696035, 10.37809619, 18.60046215,  2.11326128, 10.46587493],\n",
              "       [11.45011156, 14.07947691, 16.35141794,  8.99090094, 18.58200984,\n",
              "         5.29271989,  0.40285789,  3.39434772, 10.93509702, 12.49004675],\n",
              "       [10.57997296,  3.56812925,  6.40974887, 14.15286185, 16.09127535,\n",
              "         6.88232549, 15.11246738,  4.48319079, 17.00677601, 17.72596118],\n",
              "       [ 1.79506316, 12.64880222, 11.19548675, 17.01008708,  0.08076835,\n",
              "         9.83593305, 16.49877868, 12.97586175, 14.72373712, 12.33179003],\n",
              "       [ 9.92216598,  7.04433835, 16.62426787, 17.88130398,  0.40765621,\n",
              "         8.64906708,  7.64478863,  8.38295096, 18.65282063,  4.50366389]])"
            ]
          },
          "metadata": {},
          "execution_count": 4
        }
      ],
      "source": [
        "#example 4 - Numpy has map \"build in\"\n",
        "import numpy as np\n",
        "A = np.random.rand(10,10)*20\n",
        "A"
      ]
    },
    {
      "cell_type": "code",
      "execution_count": 5,
      "metadata": {
        "id": "Pp8wTCT_Bp9a"
      },
      "outputs": [],
      "source": [
        "#apply function directly on each element of an array\n",
        "def isLarger10(x):\n",
        "    return x>10\n",
        "\n",
        "B = isLarger10(A)"
      ]
    },
    {
      "cell_type": "code",
      "execution_count": 6,
      "metadata": {
        "id": "UTc2-_KABp9b",
        "outputId": "7cba8338-b6af-4c68-be34-cecd4153fde0",
        "colab": {
          "base_uri": "https://localhost:8080/"
        }
      },
      "outputs": [
        {
          "output_type": "execute_result",
          "data": {
            "text/plain": [
              "array([[ True, False, False, False,  True,  True,  True, False,  True,\n",
              "         True],\n",
              "       [False,  True,  True,  True,  True, False, False, False,  True,\n",
              "         True],\n",
              "       [ True,  True, False,  True, False,  True,  True, False,  True,\n",
              "        False],\n",
              "       [ True,  True, False,  True,  True, False,  True, False,  True,\n",
              "        False],\n",
              "       [ True, False, False,  True,  True, False, False, False, False,\n",
              "        False],\n",
              "       [ True,  True, False, False, False,  True,  True,  True, False,\n",
              "         True],\n",
              "       [ True,  True,  True, False,  True, False, False, False,  True,\n",
              "         True],\n",
              "       [ True, False, False,  True,  True, False,  True, False,  True,\n",
              "         True],\n",
              "       [False,  True,  True,  True, False, False,  True,  True,  True,\n",
              "         True],\n",
              "       [False, False,  True,  True, False, False, False, False,  True,\n",
              "        False]])"
            ]
          },
          "metadata": {},
          "execution_count": 6
        }
      ],
      "source": [
        "B"
      ]
    },
    {
      "cell_type": "markdown",
      "metadata": {
        "id": "IOvCE54mBp9c"
      },
      "source": [
        "#### *Reduce* in Python\n",
        "*functools* also provides a *reduce* function. Again, it will take a function and one ore more iterable objects as arguments. (see [API](https://docs.python.org/3/library/functools.html#functools.reduce))"
      ]
    },
    {
      "cell_type": "code",
      "execution_count": 7,
      "metadata": {
        "id": "lGMaucL_Bp9d",
        "outputId": "872bc916-23b9-44a5-a708-f8e8cb615abe",
        "colab": {
          "base_uri": "https://localhost:8080/"
        }
      },
      "outputs": [
        {
          "output_type": "stream",
          "name": "stdout",
          "text": [
            "The sum of the list elements is : 17\n",
            "The maximum element of the list is : 6\n"
          ]
        }
      ],
      "source": [
        "# importing functools for reduce() \n",
        "import functools \n",
        "  \n",
        "# initializing list \n",
        "lis = [ 1 , 3, 5, 6, 2, ] \n",
        "  \n",
        "def addIt(a,b):\n",
        "    return a+b\n",
        "\n",
        "# using reduce to compute sum of list \n",
        "print (\"The sum of the list elements is : \",end=\"\") \n",
        "print (functools.reduce(addIt,lis)) \n",
        "  \n",
        "# using reduce to compute maximum element from list \n",
        "print (\"The maximum element of the list is : \",end=\"\") \n",
        "print (functools.reduce(lambda a,b : a if a > b else b,lis)) "
      ]
    },
    {
      "cell_type": "markdown",
      "metadata": {
        "id": "NDAkHyJFBp9e"
      },
      "source": [
        "#### Splitting"
      ]
    },
    {
      "cell_type": "code",
      "execution_count": 8,
      "metadata": {
        "id": "ho7Sl2kuBp9e",
        "outputId": "39591f98-33f9-4739-a208-a3770fd32e4c",
        "colab": {
          "base_uri": "https://localhost:8080/"
        }
      },
      "outputs": [
        {
          "output_type": "stream",
          "name": "stdout",
          "text": [
            "[1, 2, 3]\n",
            "[4, 5, 6]\n",
            "[7, 8, 9]\n"
          ]
        }
      ],
      "source": [
        "import more_itertools as mit\n",
        "\n",
        "A=[1,2,3,4,5,6,7,8,9]\n",
        "B=list(mit.chunked(A, 3)) #split into lists of max size 3\n",
        "\n",
        "for i in B: #iterate over the spitts \n",
        "    print(i)"
      ]
    },
    {
      "cell_type": "code",
      "execution_count": 9,
      "metadata": {
        "id": "II-RJ9tMBp9f",
        "outputId": "01d72ce4-2e34-43fa-97e7-1435db2aa8d8",
        "colab": {
          "base_uri": "https://localhost:8080/"
        }
      },
      "outputs": [
        {
          "output_type": "stream",
          "name": "stdout",
          "text": [
            "['t', 'h', 'i', 's', ' ']\n",
            "['i', 's', ' ', 'a', ' ']\n",
            "['s', 'h', 'o', 'r', 't']\n",
            "[' ', 't', 'e', 'x', 't']\n",
            "[' ', 'i', 'n', ' ', 'f']\n",
            "['o', 'r', 'm', ' ', 'o']\n",
            "['f', ' ', 'a', ' ', 'p']\n",
            "['y', 't', 'h', 'o', 'n']\n",
            "[' ', 's', 't', 'r', 'i']\n",
            "['n', 'g']\n"
          ]
        }
      ],
      "source": [
        "A='this is a short text in form of a python string'\n",
        "B=list(mit.chunked(A, 5)) #split into lists of max size 5\n",
        "\n",
        "for i in B: #iterate over the spitts \n",
        "    print(i)"
      ]
    },
    {
      "cell_type": "markdown",
      "metadata": {
        "id": "WgOFsUuOBp9f"
      },
      "source": [
        "## Exercise: build a simple *Character Count* Algorithm based on the above *split, map* and *reduce* operators "
      ]
    },
    {
      "cell_type": "code",
      "execution_count": 10,
      "metadata": {
        "id": "83a8F_sbBp9g"
      },
      "outputs": [],
      "source": [
        "#some text from NYTimes\n",
        "text = ' Byron Spencer, handing out water and burgers to protesters outside Los Angeles City Hall, said he was both “elated and defeated” by word of the new charges. He said he had seen countless surges of outrage over police brutality against black men, only to have it happen again. “I’m 55, I’m black and I’m male — I’ve seen the cycle,” he said. “It’s almost like PTSD constantly having this conversation with my son.” Cierra Sesay reacted to the charges at a demonstration in the shadow of the State Capitol in Denver. “It’s amazing, it’s another box we can check,” she said. “But it goes up so much higher. It’s about the system.” In San Francisco, Tevita Tomasi — who is of Polynesian descent and described himself as “dark and tall and big” — said he regularly faced racial profiling, evidence of the bigger forces that must be overcome. On Wednesday, he distributed bottled water at what he said was his first demonstration, but one that would not be his last. What would stop him from protesting?'"
      ]
    },
    {
      "cell_type": "markdown",
      "metadata": {
        "id": "2xeaWJDgBp9g"
      },
      "source": [
        "* HINT: use list pf *python* [dictionaries](https://docs.python.org/3/tutorial/datastructures.html#dictionaries) to store the character counts in the map\n",
        "* HINT 2: merge the dicts in reduce"
      ]
    },
    {
      "cell_type": "code",
      "execution_count": 10,
      "metadata": {
        "id": "5ti9JtKWBp9h"
      },
      "outputs": [],
      "source": [
        ""
      ]
    }
  ],
  "metadata": {
    "kernelspec": {
      "display_name": "Python 3",
      "language": "python",
      "name": "python3"
    },
    "language_info": {
      "codemirror_mode": {
        "name": "ipython",
        "version": 3
      },
      "file_extension": ".py",
      "mimetype": "text/x-python",
      "name": "python",
      "nbconvert_exporter": "python",
      "pygments_lexer": "ipython3",
      "version": "3.7.6"
    },
    "colab": {
      "name": "Assignment_MapReduce.ipynb",
      "provenance": []
    }
  },
  "nbformat": 4,
  "nbformat_minor": 0
}