{
 "cells": [
  {
   "cell_type": "markdown",
   "metadata": {
    "id": "MgHClVPfH01I"
   },
   "source": [
    "# Hive\n",
    "We use the *pyHive* lib: https://github.com/dropbox/PyHive \n",
    "\n",
    "## Resources\n",
    "* [HQL cheat sheet](http://hortonworks.com/wp-content/uploads/2016/05/Hortonworks.CheatSheet.SQLtoHive.pdf)\n",
    "* [Hive reference](https://cwiki.apache.org/confluence/display/Hive/LanguageManual)\n",
    "\n",
    "## Install\n",
    "Install *pyHive* via *anaconda*"
   ]
  },
  {
   "cell_type": "code",
   "execution_count": 1,
   "metadata": {
    "id": "HCaNBc_pH01S"
   },
   "outputs": [],
   "source": [
    "!pip install -q condacolab \n",
    "\n"
   ]
  },
  {
   "cell_type": "code",
   "execution_count": 2,
   "metadata": {
    "colab": {
     "base_uri": "https://localhost:8080/"
    },
    "id": "hbf_ESW7rYxU",
    "outputId": "c3b83b25-da67-45a9-b0a8-ab9407622629"
   },
   "outputs": [
    {
     "name": "stdout",
     "output_type": "stream",
     "text": [
      "⏬ Downloading https://github.com/jaimergp/miniforge/releases/latest/download/Mambaforge-colab-Linux-x86_64.sh...\n",
      "📦 Installing...\n",
      "📌 Adjusting configuration...\n",
      "🩹 Patching environment...\n",
      "⏲ Done in 0:00:31\n",
      "🔁 Restarting kernel...\n"
     ]
    }
   ],
   "source": [
    "import condacolab \n",
    "condacolab.install() \n",
    "\n"
   ]
  },
  {
   "cell_type": "code",
   "execution_count": 3,
   "metadata": {
    "colab": {
     "base_uri": "https://localhost:8080/"
    },
    "id": "yZtda4Pardbi",
    "outputId": "556ff487-684b-4376-d168-379493c8cf0a"
   },
   "outputs": [
    {
     "name": "stdout",
     "output_type": "stream",
     "text": [
      "Collecting package metadata (current_repodata.json): - \b\b\\ \b\b| \b\b/ \b\b- \b\b\\ \b\b| \b\b/ \b\b- \b\b\\ \b\b| \b\b/ \b\b- \b\b\\ \b\b| \b\b/ \b\b- \b\b\\ \b\b| \b\b/ \b\b- \b\b\\ \b\b| \b\b/ \b\b- \b\b\\ \b\b| \b\b/ \b\b- \b\b\\ \b\b| \b\b/ \b\b- \b\b\\ \b\b| \b\b/ \b\b- \b\b\\ \b\b| \b\b/ \b\b- \b\b\\ \b\b| \b\b/ \b\b- \b\b\\ \b\b| \b\b/ \b\b- \b\b\\ \b\b| \b\b/ \b\b- \b\b\\ \b\b| \b\b/ \b\b- \b\b\\ \b\b| \b\b/ \b\b- \b\b\\ \b\b| \b\b/ \b\b- \b\b\\ \b\b| \b\b/ \b\b- \b\b\\ \b\b| \b\b/ \b\b- \b\b\\ \b\b| \b\b/ \b\b- \b\b\\ \b\b| \b\b/ \b\b- \b\b\\ \b\b| \b\b/ \b\b- \b\b\\ \b\b| \b\b/ \b\bdone\n",
      "Solving environment: \\ \b\b| \b\b/ \b\b- \b\b\\ \b\b| \b\b/ \b\b- \b\b\\ \b\b| \b\b/ \b\b- \b\b\\ \b\b| \b\b/ \b\b- \b\b\\ \b\b| \b\b/ \b\b- \b\b\\ \b\b| \b\b/ \b\b- \b\b\\ \b\b| \b\b/ \b\b- \b\bdone\n",
      "\n",
      "## Package Plan ##\n",
      "\n",
      "  environment location: /usr/local\n",
      "\n",
      "  added / updated specs:\n",
      "    - pyhive\n",
      "    - sasl\n",
      "\n",
      "\n",
      "The following packages will be downloaded:\n",
      "\n",
      "    package                    |            build\n",
      "    ---------------------------|-----------------\n",
      "    ca-certificates-2021.10.8  |       ha878542_0         139 KB  conda-forge\n",
      "    certifi-2021.10.8          |   py37h89c1867_2         145 KB  conda-forge\n",
      "    conda-4.12.0               |   py37h89c1867_0         1.0 MB  conda-forge\n",
      "    cyrus-sasl-2.1.27          |       h3274739_1         224 KB  conda-forge\n",
      "    future-0.18.2              |   py37h89c1867_5         713 KB  conda-forge\n",
      "    libgcc-ng-11.2.0           |      h1d223b6_16         902 KB  conda-forge\n",
      "    libgomp-11.2.0             |      h1d223b6_16         428 KB  conda-forge\n",
      "    libntlm-1.4                |    h7f98852_1002          32 KB  conda-forge\n",
      "    openssl-1.1.1n             |       h166bdaf_0         2.1 MB  conda-forge\n",
      "    pure-sasl-0.6.2            |     pyhd8ed1ab_0          13 KB  conda-forge\n",
      "    pyhive-0.6.5               |     pyhd8ed1ab_0          40 KB  conda-forge\n",
      "    python-dateutil-2.8.2      |     pyhd8ed1ab_0         240 KB  conda-forge\n",
      "    python_abi-3.7             |          2_cp37m           4 KB  conda-forge\n",
      "    sasl-0.3.1                 |   py37hcd2ae1e_0          74 KB  conda-forge\n",
      "    sqlalchemy-1.3.24          |   py37h540881e_1         1.8 MB  conda-forge\n",
      "    thrift-0.13.0              |   py37hcd2ae1e_2         120 KB  conda-forge\n",
      "    thrift_sasl-0.4.3          |     pyhd8ed1ab_1          12 KB  conda-forge\n",
      "    ------------------------------------------------------------\n",
      "                                           Total:         8.0 MB\n",
      "\n",
      "The following NEW packages will be INSTALLED:\n",
      "\n",
      "  cyrus-sasl         conda-forge/linux-64::cyrus-sasl-2.1.27-h3274739_1\n",
      "  future             conda-forge/linux-64::future-0.18.2-py37h89c1867_5\n",
      "  libntlm            conda-forge/linux-64::libntlm-1.4-h7f98852_1002\n",
      "  pure-sasl          conda-forge/noarch::pure-sasl-0.6.2-pyhd8ed1ab_0\n",
      "  pyhive             conda-forge/noarch::pyhive-0.6.5-pyhd8ed1ab_0\n",
      "  python-dateutil    conda-forge/noarch::python-dateutil-2.8.2-pyhd8ed1ab_0\n",
      "  sasl               conda-forge/linux-64::sasl-0.3.1-py37hcd2ae1e_0\n",
      "  sqlalchemy         conda-forge/linux-64::sqlalchemy-1.3.24-py37h540881e_1\n",
      "  thrift             conda-forge/linux-64::thrift-0.13.0-py37hcd2ae1e_2\n",
      "  thrift_sasl        conda-forge/noarch::thrift_sasl-0.4.3-pyhd8ed1ab_1\n",
      "\n",
      "The following packages will be UPDATED:\n",
      "\n",
      "  ca-certificates                      2020.12.5-ha878542_0 --> 2021.10.8-ha878542_0\n",
      "  certifi                          2020.12.5-py37h89c1867_1 --> 2021.10.8-py37h89c1867_2\n",
      "  conda                                4.9.2-py37h89c1867_0 --> 4.12.0-py37h89c1867_0\n",
      "  libgcc-ng                               9.3.0-h2828fa1_18 --> 11.2.0-h1d223b6_16\n",
      "  libgomp                                 9.3.0-h2828fa1_18 --> 11.2.0-h1d223b6_16\n",
      "  openssl                                 1.1.1j-h7f98852_0 --> 1.1.1n-h166bdaf_0\n",
      "  python_abi                                    3.7-1_cp37m --> 3.7-2_cp37m\n",
      "\n",
      "\n",
      "\n",
      "Downloading and Extracting Packages\n",
      "conda-4.12.0         | 1.0 MB    | : 100% 1.0/1 [00:00<00:00,  2.82it/s]\n",
      "python-dateutil-2.8. | 240 KB    | : 100% 1.0/1 [00:00<00:00, 14.72it/s]\n",
      "libgcc-ng-11.2.0     | 902 KB    | : 100% 1.0/1 [00:00<00:00,  5.99it/s]\n",
      "libgomp-11.2.0       | 428 KB    | : 100% 1.0/1 [00:00<00:00, 10.09it/s]\n",
      "ca-certificates-2021 | 139 KB    | : 100% 1.0/1 [00:00<00:00, 20.31it/s]\n",
      "openssl-1.1.1n       | 2.1 MB    | : 100% 1.0/1 [00:00<00:00,  2.75it/s]\n",
      "pure-sasl-0.6.2      | 13 KB     | : 100% 1.0/1 [00:00<00:00, 28.16it/s]\n",
      "python_abi-3.7       | 4 KB      | : 100% 1.0/1 [00:00<00:00, 28.15it/s]\n",
      "libntlm-1.4          | 32 KB     | : 100% 1.0/1 [00:00<00:00, 26.57it/s]\n",
      "sqlalchemy-1.3.24    | 1.8 MB    | : 100% 1.0/1 [00:00<00:00,  2.04it/s]               \n",
      "cyrus-sasl-2.1.27    | 224 KB    | : 100% 1.0/1 [00:00<00:00,  9.59it/s]\n",
      "certifi-2021.10.8    | 145 KB    | : 100% 1.0/1 [00:00<00:00, 17.65it/s]\n",
      "thrift-0.13.0        | 120 KB    | : 100% 1.0/1 [00:00<00:00,  9.09it/s]\n",
      "future-0.18.2        | 713 KB    | : 100% 1.0/1 [00:00<00:00,  4.91it/s]\n",
      "pyhive-0.6.5         | 40 KB     | : 100% 1.0/1 [00:00<00:00, 15.16it/s]\n",
      "sasl-0.3.1           | 74 KB     | : 100% 1.0/1 [00:00<00:00, 13.35it/s]\n",
      "thrift_sasl-0.4.3    | 12 KB     | : 100% 1.0/1 [00:00<00:00, 24.11it/s]\n",
      "Preparing transaction: | \b\bdone\n",
      "Verifying transaction: - \b\b\\ \b\b| \b\bdone\n",
      "Executing transaction: - \b\b\\ \b\b| \b\b/ \b\b- \b\b\\ \b\b| \b\b/ \b\bdone\n"
     ]
    }
   ],
   "source": [
    "!conda install -y pyhive sasl"
   ]
  },
  {
   "cell_type": "code",
   "execution_count": 3,
   "metadata": {
    "id": "AoBWUZAVH01U"
   },
   "outputs": [],
   "source": [
    "#import libs\n",
    "from pyhive import hive\n",
    "from TCLIService.ttypes import TOperationState"
   ]
  },
  {
   "cell_type": "code",
   "execution_count": 18,
   "metadata": {
    "id": "Xei9sSNAH01V"
   },
   "outputs": [],
   "source": [
    "# try to connect\n",
    "server=\"ec2-52-51-147-153.eu-west-1.compute.amazonaws.com\"\n",
    "cursor = hive.connect(server).cursor()"
   ]
  },
  {
   "cell_type": "code",
   "execution_count": 19,
   "metadata": {
    "id": "PBzVSTQEH01V"
   },
   "outputs": [],
   "source": [
    "#show our databases\n",
    "cursor.execute('show databases')"
   ]
  },
  {
   "cell_type": "code",
   "execution_count": 20,
   "metadata": {
    "colab": {
     "base_uri": "https://localhost:8080/"
    },
    "id": "oblfzvS6H01W",
    "outputId": "119f0dcd-0481-4478-c444-49a7a779b861"
   },
   "outputs": [
    {
     "data": {
      "text/plain": [
       "[('default',)]"
      ]
     },
     "execution_count": 20,
     "metadata": {},
     "output_type": "execute_result"
    }
   ],
   "source": [
    "#get data from execution\n",
    "cursor.fetchall()"
   ]
  },
  {
   "cell_type": "code",
   "execution_count": 21,
   "metadata": {
    "id": "3HOpreHyH01Y"
   },
   "outputs": [],
   "source": [
    "#use default db\n",
    "cursor.execute('use default')"
   ]
  },
  {
   "cell_type": "code",
   "execution_count": 22,
   "metadata": {
    "id": "sfP3VHwyH01a"
   },
   "outputs": [],
   "source": [
    "#show tables in db\n",
    "cursor.execute('show tables')"
   ]
  },
  {
   "cell_type": "code",
   "execution_count": 23,
   "metadata": {
    "colab": {
     "base_uri": "https://localhost:8080/"
    },
    "id": "Q93V1EWLH01b",
    "outputId": "eac2ba2a-590a-441d-d620-ae9935542a0b"
   },
   "outputs": [
    {
     "data": {
      "text/plain": [
       "[('employee',), ('salary',)]"
      ]
     },
     "execution_count": 23,
     "metadata": {},
     "output_type": "execute_result"
    }
   ],
   "source": [
    "cursor.fetchall()"
   ]
  },
  {
   "cell_type": "code",
   "execution_count": 24,
   "metadata": {
    "colab": {
     "base_uri": "https://localhost:8080/"
    },
    "id": "AGw0RCptH01c",
    "outputId": "5cd18651-98f5-475d-dab9-b33b0654d328"
   },
   "outputs": [
    {
     "data": {
      "text/plain": [
       "[('employee_id', 'int', ''),\n",
       " ('birthday', 'string', ''),\n",
       " ('first_name', 'string', ''),\n",
       " ('family_name', 'string', ''),\n",
       " ('gender', 'string', ''),\n",
       " ('work_day', 'string', '')]"
      ]
     },
     "execution_count": 24,
     "metadata": {},
     "output_type": "execute_result"
    }
   ],
   "source": [
    "# get table layout\n",
    "cursor.execute('describe employee')\n",
    "cursor.fetchall()"
   ]
  },
  {
   "cell_type": "code",
   "execution_count": 25,
   "metadata": {
    "id": "lVrk3FeAH01d"
   },
   "outputs": [],
   "source": [
    "#select data\n",
    "cursor.execute('select * from employee')"
   ]
  },
  {
   "cell_type": "code",
   "execution_count": 26,
   "metadata": {
    "id": "FfrzcTSoH01e"
   },
   "outputs": [],
   "source": [
    "#get daata from selction\n",
    "employee = cursor.fetchall()"
   ]
  },
  {
   "cell_type": "code",
   "execution_count": 27,
   "metadata": {
    "colab": {
     "base_uri": "https://localhost:8080/"
    },
    "id": "9jmXC22-H01f",
    "outputId": "1c35ebf2-c1f8-44bb-a497-80129ff99a5e"
   },
   "outputs": [
    {
     "data": {
      "text/plain": [
       "[(10001, \"'1953-09-02'\", \"'Georgi'\", \"'Facello'\", \"'M'\", \"'1986-06-26'\"),\n",
       " (10002, \"'1964-06-02'\", \"'Bezalel'\", \"'Simmel'\", \"'F'\", \"'1985-11-21'\"),\n",
       " (10003, \"'1959-12-03'\", \"'Parto'\", \"'Bamford'\", \"'M'\", \"'1986-08-28'\"),\n",
       " (10004, \"'1954-05-01'\", \"'Chirstian'\", \"'Koblick'\", \"'M'\", \"'1986-12-01'\"),\n",
       " (10005, \"'1955-01-21'\", \"'Kyoichi'\", \"'Maliniak'\", \"'M'\", \"'1989-09-12'\"),\n",
       " (10006, \"'1953-04-20'\", \"'Anneke'\", \"'Preusig'\", \"'F'\", \"'1989-06-02'\"),\n",
       " (10007, \"'1957-05-23'\", \"'Tzvetan'\", \"'Zielinski'\", \"'F'\", \"'1989-02-10'\"),\n",
       " (10008, \"'1958-02-19'\", \"'Saniya'\", \"'Kalloufi'\", \"'M'\", \"'1994-09-15'\"),\n",
       " (10009, \"'1952-04-19'\", \"'Sumant'\", \"'Peac'\", \"'F'\", \"'1985-02-18'\"),\n",
       " (10010, \"'1963-06-01'\", \"'Duangkaew'\", \"'Piveteau'\", \"'F'\", \"'1989-08-24'\")]"
      ]
     },
     "execution_count": 27,
     "metadata": {},
     "output_type": "execute_result"
    }
   ],
   "source": [
    "#have a look\n",
    "employee[:10]"
   ]
  },
  {
   "cell_type": "code",
   "execution_count": 12,
   "metadata": {
    "colab": {
     "base_uri": "https://localhost:8080/"
    },
    "id": "EDcDMjh3H01f",
    "outputId": "fe9aa580-67fc-4138-fcd0-064701db854c"
   },
   "outputs": [
    {
     "data": {
      "text/plain": [
       "[('employee_id', 'int', ''),\n",
       " ('salary', 'int', ''),\n",
       " ('start_date', 'date', ''),\n",
       " ('end_date', 'date', '')]"
      ]
     },
     "execution_count": 12,
     "metadata": {},
     "output_type": "execute_result"
    }
   ],
   "source": [
    "# get salary table layout\n",
    "cursor.execute('describe salary')\n",
    "cursor.fetchall()"
   ]
  },
  {
   "cell_type": "code",
   "execution_count": 13,
   "metadata": {
    "id": "N3R5nE9ZH01g"
   },
   "outputs": [],
   "source": [
    "#select data\n",
    "cursor.execute('select * from salary')"
   ]
  },
  {
   "cell_type": "code",
   "execution_count": 14,
   "metadata": {
    "id": "OX9pna1WH01h"
   },
   "outputs": [],
   "source": [
    "#get daata from selction\n",
    "salary = cursor.fetchall()"
   ]
  },
  {
   "cell_type": "code",
   "execution_count": 15,
   "metadata": {
    "colab": {
     "base_uri": "https://localhost:8080/"
    },
    "id": "sPyV2OsSH01h",
    "outputId": "053fbd15-cfe2-456c-ee37-0b0c86a98a0d"
   },
   "outputs": [
    {
     "data": {
      "text/plain": [
       "[(10001, 60117, None, None),\n",
       " (10001, 62102, None, None),\n",
       " (10001, 66074, None, None),\n",
       " (10001, 66596, None, None),\n",
       " (10001, 66961, None, None),\n",
       " (10001, 71046, None, None),\n",
       " (10001, 74333, None, None),\n",
       " (10001, 75286, None, None),\n",
       " (10001, 75994, None, None),\n",
       " (10001, 76884, None, None)]"
      ]
     },
     "execution_count": 15,
     "metadata": {},
     "output_type": "execute_result"
    }
   ],
   "source": [
    "salary[:10]"
   ]
  },
  {
   "cell_type": "markdown",
   "metadata": {
    "id": "Cr0ty4gsH01i"
   },
   "source": [
    "## Ex 1\n",
    "Get employees sorted by ``family_name``. Return first 10 entries."
   ]
  },
  {
   "cell_type": "code",
   "execution_count": 37,
   "metadata": {
    "id": "5plL57fKH01i"
   },
   "outputs": [
    {
     "ename": "OperationalError",
     "evalue": "TExecuteStatementResp(status=TStatus(statusCode=3, infoMessages=[\"*org.apache.hive.service.cli.HiveSQLException:Error while compiling statement: FAILED: ParseException line 1:44 extraneous input 'dsc' expecting EOF near '<EOF>':28:27\", 'org.apache.hive.service.cli.operation.Operation:toSQLException:Operation.java:380', 'org.apache.hive.service.cli.operation.SQLOperation:prepare:SQLOperation.java:203', 'org.apache.hive.service.cli.operation.SQLOperation:runInternal:SQLOperation.java:287', 'org.apache.hive.service.cli.operation.Operation:run:Operation.java:320', 'org.apache.hive.service.cli.session.HiveSessionImpl:executeStatementInternal:HiveSessionImpl.java:530', 'org.apache.hive.service.cli.session.HiveSessionImpl:executeStatement:HiveSessionImpl.java:506', 'sun.reflect.GeneratedMethodAccessor20:invoke::-1', 'sun.reflect.DelegatingMethodAccessorImpl:invoke:DelegatingMethodAccessorImpl.java:43', 'java.lang.reflect.Method:invoke:Method.java:498', 'org.apache.hive.service.cli.session.HiveSessionProxy:invoke:HiveSessionProxy.java:78', 'org.apache.hive.service.cli.session.HiveSessionProxy:access$000:HiveSessionProxy.java:36', 'org.apache.hive.service.cli.session.HiveSessionProxy$1:run:HiveSessionProxy.java:63', 'java.security.AccessController:doPrivileged:AccessController.java:-2', 'javax.security.auth.Subject:doAs:Subject.java:422', 'org.apache.hadoop.security.UserGroupInformation:doAs:UserGroupInformation.java:1926', 'org.apache.hive.service.cli.session.HiveSessionProxy:invoke:HiveSessionProxy.java:59', 'com.sun.proxy.$Proxy35:executeStatement::-1', 'org.apache.hive.service.cli.CLIService:executeStatement:CLIService.java:280', 'org.apache.hive.service.cli.thrift.ThriftCLIService:ExecuteStatement:ThriftCLIService.java:531', 'org.apache.hive.service.rpc.thrift.TCLIService$Processor$ExecuteStatement:getResult:TCLIService.java:1437', 'org.apache.hive.service.rpc.thrift.TCLIService$Processor$ExecuteStatement:getResult:TCLIService.java:1422', 'org.apache.thrift.ProcessFunction:process:ProcessFunction.java:39', 'org.apache.thrift.TBaseProcessor:process:TBaseProcessor.java:39', 'org.apache.hive.service.auth.TSetIpAddressProcessor:process:TSetIpAddressProcessor.java:56', 'org.apache.thrift.server.TThreadPoolServer$WorkerProcess:run:TThreadPoolServer.java:286', 'java.util.concurrent.ThreadPoolExecutor:runWorker:ThreadPoolExecutor.java:1149', 'java.util.concurrent.ThreadPoolExecutor$Worker:run:ThreadPoolExecutor.java:624', 'java.lang.Thread:run:Thread.java:750', \"*org.apache.hadoop.hive.ql.parse.ParseException:line 1:44 extraneous input 'dsc' expecting EOF near '<EOF>':33:6\", 'org.apache.hadoop.hive.ql.parse.ParseDriver:parse:ParseDriver.java:219', 'org.apache.hadoop.hive.ql.parse.ParseUtils:parse:ParseUtils.java:77', 'org.apache.hadoop.hive.ql.parse.ParseUtils:parse:ParseUtils.java:70', 'org.apache.hadoop.hive.ql.Driver:compile:Driver.java:468', 'org.apache.hadoop.hive.ql.Driver:compileInternal:Driver.java:1317', 'org.apache.hadoop.hive.ql.Driver:compileAndRespond:Driver.java:1295', 'org.apache.hive.service.cli.operation.SQLOperation:prepare:SQLOperation.java:201'], sqlState='42000', errorCode=40000, errorMessage=\"Error while compiling statement: FAILED: ParseException line 1:44 extraneous input 'dsc' expecting EOF near '<EOF>'\"), operationHandle=None)",
     "output_type": "error",
     "traceback": [
      "\u001b[0;31m---------------------------------------------------------------------------\u001b[0m",
      "\u001b[0;31mOperationalError\u001b[0m                          Traceback (most recent call last)",
      "Input \u001b[0;32mIn [37]\u001b[0m, in \u001b[0;36m<cell line: 1>\u001b[0;34m()\u001b[0m\n\u001b[0;32m----> 1\u001b[0m \u001b[43mcursor\u001b[49m\u001b[38;5;241;43m.\u001b[39;49m\u001b[43mexecute\u001b[49m\u001b[43m(\u001b[49m\u001b[38;5;124;43m\"\u001b[39;49m\u001b[38;5;124;43mSELECT * from employee order by family_name dsc\u001b[39;49m\u001b[38;5;124;43m\"\u001b[39;49m\u001b[43m)\u001b[49m\n",
      "File \u001b[0;32m~/anaconda3/lib/python3.9/site-packages/pyhive/hive.py:365\u001b[0m, in \u001b[0;36mCursor.execute\u001b[0;34m(self, operation, parameters, **kwargs)\u001b[0m\n\u001b[1;32m    363\u001b[0m _logger\u001b[38;5;241m.\u001b[39mdebug(req)\n\u001b[1;32m    364\u001b[0m response \u001b[38;5;241m=\u001b[39m \u001b[38;5;28mself\u001b[39m\u001b[38;5;241m.\u001b[39m_connection\u001b[38;5;241m.\u001b[39mclient\u001b[38;5;241m.\u001b[39mExecuteStatement(req)\n\u001b[0;32m--> 365\u001b[0m \u001b[43m_check_status\u001b[49m\u001b[43m(\u001b[49m\u001b[43mresponse\u001b[49m\u001b[43m)\u001b[49m\n\u001b[1;32m    366\u001b[0m \u001b[38;5;28mself\u001b[39m\u001b[38;5;241m.\u001b[39m_operationHandle \u001b[38;5;241m=\u001b[39m response\u001b[38;5;241m.\u001b[39moperationHandle\n",
      "File \u001b[0;32m~/anaconda3/lib/python3.9/site-packages/pyhive/hive.py:495\u001b[0m, in \u001b[0;36m_check_status\u001b[0;34m(response)\u001b[0m\n\u001b[1;32m    493\u001b[0m _logger\u001b[38;5;241m.\u001b[39mdebug(response)\n\u001b[1;32m    494\u001b[0m \u001b[38;5;28;01mif\u001b[39;00m response\u001b[38;5;241m.\u001b[39mstatus\u001b[38;5;241m.\u001b[39mstatusCode \u001b[38;5;241m!=\u001b[39m ttypes\u001b[38;5;241m.\u001b[39mTStatusCode\u001b[38;5;241m.\u001b[39mSUCCESS_STATUS:\n\u001b[0;32m--> 495\u001b[0m     \u001b[38;5;28;01mraise\u001b[39;00m OperationalError(response)\n",
      "\u001b[0;31mOperationalError\u001b[0m: TExecuteStatementResp(status=TStatus(statusCode=3, infoMessages=[\"*org.apache.hive.service.cli.HiveSQLException:Error while compiling statement: FAILED: ParseException line 1:44 extraneous input 'dsc' expecting EOF near '<EOF>':28:27\", 'org.apache.hive.service.cli.operation.Operation:toSQLException:Operation.java:380', 'org.apache.hive.service.cli.operation.SQLOperation:prepare:SQLOperation.java:203', 'org.apache.hive.service.cli.operation.SQLOperation:runInternal:SQLOperation.java:287', 'org.apache.hive.service.cli.operation.Operation:run:Operation.java:320', 'org.apache.hive.service.cli.session.HiveSessionImpl:executeStatementInternal:HiveSessionImpl.java:530', 'org.apache.hive.service.cli.session.HiveSessionImpl:executeStatement:HiveSessionImpl.java:506', 'sun.reflect.GeneratedMethodAccessor20:invoke::-1', 'sun.reflect.DelegatingMethodAccessorImpl:invoke:DelegatingMethodAccessorImpl.java:43', 'java.lang.reflect.Method:invoke:Method.java:498', 'org.apache.hive.service.cli.session.HiveSessionProxy:invoke:HiveSessionProxy.java:78', 'org.apache.hive.service.cli.session.HiveSessionProxy:access$000:HiveSessionProxy.java:36', 'org.apache.hive.service.cli.session.HiveSessionProxy$1:run:HiveSessionProxy.java:63', 'java.security.AccessController:doPrivileged:AccessController.java:-2', 'javax.security.auth.Subject:doAs:Subject.java:422', 'org.apache.hadoop.security.UserGroupInformation:doAs:UserGroupInformation.java:1926', 'org.apache.hive.service.cli.session.HiveSessionProxy:invoke:HiveSessionProxy.java:59', 'com.sun.proxy.$Proxy35:executeStatement::-1', 'org.apache.hive.service.cli.CLIService:executeStatement:CLIService.java:280', 'org.apache.hive.service.cli.thrift.ThriftCLIService:ExecuteStatement:ThriftCLIService.java:531', 'org.apache.hive.service.rpc.thrift.TCLIService$Processor$ExecuteStatement:getResult:TCLIService.java:1437', 'org.apache.hive.service.rpc.thrift.TCLIService$Processor$ExecuteStatement:getResult:TCLIService.java:1422', 'org.apache.thrift.ProcessFunction:process:ProcessFunction.java:39', 'org.apache.thrift.TBaseProcessor:process:TBaseProcessor.java:39', 'org.apache.hive.service.auth.TSetIpAddressProcessor:process:TSetIpAddressProcessor.java:56', 'org.apache.thrift.server.TThreadPoolServer$WorkerProcess:run:TThreadPoolServer.java:286', 'java.util.concurrent.ThreadPoolExecutor:runWorker:ThreadPoolExecutor.java:1149', 'java.util.concurrent.ThreadPoolExecutor$Worker:run:ThreadPoolExecutor.java:624', 'java.lang.Thread:run:Thread.java:750', \"*org.apache.hadoop.hive.ql.parse.ParseException:line 1:44 extraneous input 'dsc' expecting EOF near '<EOF>':33:6\", 'org.apache.hadoop.hive.ql.parse.ParseDriver:parse:ParseDriver.java:219', 'org.apache.hadoop.hive.ql.parse.ParseUtils:parse:ParseUtils.java:77', 'org.apache.hadoop.hive.ql.parse.ParseUtils:parse:ParseUtils.java:70', 'org.apache.hadoop.hive.ql.Driver:compile:Driver.java:468', 'org.apache.hadoop.hive.ql.Driver:compileInternal:Driver.java:1317', 'org.apache.hadoop.hive.ql.Driver:compileAndRespond:Driver.java:1295', 'org.apache.hive.service.cli.operation.SQLOperation:prepare:SQLOperation.java:201'], sqlState='42000', errorCode=40000, errorMessage=\"Error while compiling statement: FAILED: ParseException line 1:44 extraneous input 'dsc' expecting EOF near '<EOF>'\"), operationHandle=None)"
     ]
    }
   ],
   "source": [
    "cursor.execute(\"SELECT * from employee order by family_name dsc\")"
   ]
  },
  {
   "cell_type": "code",
   "execution_count": 30,
   "metadata": {
    "colab": {
     "base_uri": "https://localhost:8080/"
    },
    "id": "f5AbUIxfH01j",
    "outputId": "281aad20-efbd-4be4-bca1-691bf76ab69b"
   },
   "outputs": [
    {
     "data": {
      "text/plain": [
       "[(10001, \"'1953-09-02'\", \"'Georgi'\", \"'Facello'\", \"'M'\", \"'1986-06-26'\"),\n",
       " (10002, \"'1964-06-02'\", \"'Bezalel'\", \"'Simmel'\", \"'F'\", \"'1985-11-21'\"),\n",
       " (10003, \"'1959-12-03'\", \"'Parto'\", \"'Bamford'\", \"'M'\", \"'1986-08-28'\"),\n",
       " (10004, \"'1954-05-01'\", \"'Chirstian'\", \"'Koblick'\", \"'M'\", \"'1986-12-01'\"),\n",
       " (10005, \"'1955-01-21'\", \"'Kyoichi'\", \"'Maliniak'\", \"'M'\", \"'1989-09-12'\"),\n",
       " (10006, \"'1953-04-20'\", \"'Anneke'\", \"'Preusig'\", \"'F'\", \"'1989-06-02'\"),\n",
       " (10007, \"'1957-05-23'\", \"'Tzvetan'\", \"'Zielinski'\", \"'F'\", \"'1989-02-10'\"),\n",
       " (10008, \"'1958-02-19'\", \"'Saniya'\", \"'Kalloufi'\", \"'M'\", \"'1994-09-15'\"),\n",
       " (10009, \"'1952-04-19'\", \"'Sumant'\", \"'Peac'\", \"'F'\", \"'1985-02-18'\"),\n",
       " (10010, \"'1963-06-01'\", \"'Duangkaew'\", \"'Piveteau'\", \"'F'\", \"'1989-08-24'\")]"
      ]
     },
     "execution_count": 30,
     "metadata": {},
     "output_type": "execute_result"
    }
   ],
   "source": [
    "cursor.fetchall()[:10]"
   ]
  },
  {
   "cell_type": "markdown",
   "metadata": {
    "id": "A5YKLzYnH01j"
   },
   "source": [
    "## Ex 2\n",
    "Get ``family_name`` and ``salary`` of employees sorted by salary. Return first 100 entries. Hint: you need to join both tables..."
   ]
  },
  {
   "cell_type": "code",
   "execution_count": 8,
   "metadata": {
    "id": "sqGnrDiHH01k"
   },
   "outputs": [
    {
     "ename": "OperationalError",
     "evalue": "TExecuteStatementResp(status=TStatus(statusCode=3, infoMessages=['*org.apache.hive.service.cli.HiveSQLException:Error while processing statement: FAILED: Execution Error, return code 1 from org.apache.hadoop.hive.ql.exec.tez.TezTask:28:27', 'org.apache.hive.service.cli.operation.Operation:toSQLException:Operation.java:380', 'org.apache.hive.service.cli.operation.SQLOperation:runQuery:SQLOperation.java:254', 'org.apache.hive.service.cli.operation.SQLOperation:runInternal:SQLOperation.java:290', 'org.apache.hive.service.cli.operation.Operation:run:Operation.java:320', 'org.apache.hive.service.cli.session.HiveSessionImpl:executeStatementInternal:HiveSessionImpl.java:530', 'org.apache.hive.service.cli.session.HiveSessionImpl:executeStatement:HiveSessionImpl.java:506', 'sun.reflect.GeneratedMethodAccessor20:invoke::-1', 'sun.reflect.DelegatingMethodAccessorImpl:invoke:DelegatingMethodAccessorImpl.java:43', 'java.lang.reflect.Method:invoke:Method.java:498', 'org.apache.hive.service.cli.session.HiveSessionProxy:invoke:HiveSessionProxy.java:78', 'org.apache.hive.service.cli.session.HiveSessionProxy:access$000:HiveSessionProxy.java:36', 'org.apache.hive.service.cli.session.HiveSessionProxy$1:run:HiveSessionProxy.java:63', 'java.security.AccessController:doPrivileged:AccessController.java:-2', 'javax.security.auth.Subject:doAs:Subject.java:422', 'org.apache.hadoop.security.UserGroupInformation:doAs:UserGroupInformation.java:1926', 'org.apache.hive.service.cli.session.HiveSessionProxy:invoke:HiveSessionProxy.java:59', 'com.sun.proxy.$Proxy35:executeStatement::-1', 'org.apache.hive.service.cli.CLIService:executeStatement:CLIService.java:280', 'org.apache.hive.service.cli.thrift.ThriftCLIService:ExecuteStatement:ThriftCLIService.java:531', 'org.apache.hive.service.rpc.thrift.TCLIService$Processor$ExecuteStatement:getResult:TCLIService.java:1437', 'org.apache.hive.service.rpc.thrift.TCLIService$Processor$ExecuteStatement:getResult:TCLIService.java:1422', 'org.apache.thrift.ProcessFunction:process:ProcessFunction.java:39', 'org.apache.thrift.TBaseProcessor:process:TBaseProcessor.java:39', 'org.apache.hive.service.auth.TSetIpAddressProcessor:process:TSetIpAddressProcessor.java:56', 'org.apache.thrift.server.TThreadPoolServer$WorkerProcess:run:TThreadPoolServer.java:286', 'java.util.concurrent.ThreadPoolExecutor:runWorker:ThreadPoolExecutor.java:1149', 'java.util.concurrent.ThreadPoolExecutor$Worker:run:ThreadPoolExecutor.java:624', 'java.lang.Thread:run:Thread.java:750'], sqlState='08S01', errorCode=1, errorMessage='Error while processing statement: FAILED: Execution Error, return code 1 from org.apache.hadoop.hive.ql.exec.tez.TezTask'), operationHandle=None)",
     "output_type": "error",
     "traceback": [
      "\u001b[0;31m---------------------------------------------------------------------------\u001b[0m",
      "\u001b[0;31mOperationalError\u001b[0m                          Traceback (most recent call last)",
      "Input \u001b[0;32mIn [8]\u001b[0m, in \u001b[0;36m<cell line: 1>\u001b[0;34m()\u001b[0m\n\u001b[0;32m----> 1\u001b[0m \u001b[43mcursor\u001b[49m\u001b[38;5;241;43m.\u001b[39;49m\u001b[43mexecute\u001b[49m\u001b[43m(\u001b[49m\u001b[38;5;124;43m\"\u001b[39;49m\u001b[38;5;124;43mSELECT family_name, salary from employee,salary where employee.employee_id=salary.employee_id order by salary\u001b[39;49m\u001b[38;5;124;43m\"\u001b[39;49m\u001b[43m)\u001b[49m\n\u001b[1;32m      2\u001b[0m data\u001b[38;5;241m=\u001b[39mcursor\u001b[38;5;241m.\u001b[39mfetchall()\n",
      "File \u001b[0;32m~/anaconda3/lib/python3.9/site-packages/pyhive/hive.py:365\u001b[0m, in \u001b[0;36mCursor.execute\u001b[0;34m(self, operation, parameters, **kwargs)\u001b[0m\n\u001b[1;32m    363\u001b[0m _logger\u001b[38;5;241m.\u001b[39mdebug(req)\n\u001b[1;32m    364\u001b[0m response \u001b[38;5;241m=\u001b[39m \u001b[38;5;28mself\u001b[39m\u001b[38;5;241m.\u001b[39m_connection\u001b[38;5;241m.\u001b[39mclient\u001b[38;5;241m.\u001b[39mExecuteStatement(req)\n\u001b[0;32m--> 365\u001b[0m \u001b[43m_check_status\u001b[49m\u001b[43m(\u001b[49m\u001b[43mresponse\u001b[49m\u001b[43m)\u001b[49m\n\u001b[1;32m    366\u001b[0m \u001b[38;5;28mself\u001b[39m\u001b[38;5;241m.\u001b[39m_operationHandle \u001b[38;5;241m=\u001b[39m response\u001b[38;5;241m.\u001b[39moperationHandle\n",
      "File \u001b[0;32m~/anaconda3/lib/python3.9/site-packages/pyhive/hive.py:495\u001b[0m, in \u001b[0;36m_check_status\u001b[0;34m(response)\u001b[0m\n\u001b[1;32m    493\u001b[0m _logger\u001b[38;5;241m.\u001b[39mdebug(response)\n\u001b[1;32m    494\u001b[0m \u001b[38;5;28;01mif\u001b[39;00m response\u001b[38;5;241m.\u001b[39mstatus\u001b[38;5;241m.\u001b[39mstatusCode \u001b[38;5;241m!=\u001b[39m ttypes\u001b[38;5;241m.\u001b[39mTStatusCode\u001b[38;5;241m.\u001b[39mSUCCESS_STATUS:\n\u001b[0;32m--> 495\u001b[0m     \u001b[38;5;28;01mraise\u001b[39;00m OperationalError(response)\n",
      "\u001b[0;31mOperationalError\u001b[0m: TExecuteStatementResp(status=TStatus(statusCode=3, infoMessages=['*org.apache.hive.service.cli.HiveSQLException:Error while processing statement: FAILED: Execution Error, return code 1 from org.apache.hadoop.hive.ql.exec.tez.TezTask:28:27', 'org.apache.hive.service.cli.operation.Operation:toSQLException:Operation.java:380', 'org.apache.hive.service.cli.operation.SQLOperation:runQuery:SQLOperation.java:254', 'org.apache.hive.service.cli.operation.SQLOperation:runInternal:SQLOperation.java:290', 'org.apache.hive.service.cli.operation.Operation:run:Operation.java:320', 'org.apache.hive.service.cli.session.HiveSessionImpl:executeStatementInternal:HiveSessionImpl.java:530', 'org.apache.hive.service.cli.session.HiveSessionImpl:executeStatement:HiveSessionImpl.java:506', 'sun.reflect.GeneratedMethodAccessor20:invoke::-1', 'sun.reflect.DelegatingMethodAccessorImpl:invoke:DelegatingMethodAccessorImpl.java:43', 'java.lang.reflect.Method:invoke:Method.java:498', 'org.apache.hive.service.cli.session.HiveSessionProxy:invoke:HiveSessionProxy.java:78', 'org.apache.hive.service.cli.session.HiveSessionProxy:access$000:HiveSessionProxy.java:36', 'org.apache.hive.service.cli.session.HiveSessionProxy$1:run:HiveSessionProxy.java:63', 'java.security.AccessController:doPrivileged:AccessController.java:-2', 'javax.security.auth.Subject:doAs:Subject.java:422', 'org.apache.hadoop.security.UserGroupInformation:doAs:UserGroupInformation.java:1926', 'org.apache.hive.service.cli.session.HiveSessionProxy:invoke:HiveSessionProxy.java:59', 'com.sun.proxy.$Proxy35:executeStatement::-1', 'org.apache.hive.service.cli.CLIService:executeStatement:CLIService.java:280', 'org.apache.hive.service.cli.thrift.ThriftCLIService:ExecuteStatement:ThriftCLIService.java:531', 'org.apache.hive.service.rpc.thrift.TCLIService$Processor$ExecuteStatement:getResult:TCLIService.java:1437', 'org.apache.hive.service.rpc.thrift.TCLIService$Processor$ExecuteStatement:getResult:TCLIService.java:1422', 'org.apache.thrift.ProcessFunction:process:ProcessFunction.java:39', 'org.apache.thrift.TBaseProcessor:process:TBaseProcessor.java:39', 'org.apache.hive.service.auth.TSetIpAddressProcessor:process:TSetIpAddressProcessor.java:56', 'org.apache.thrift.server.TThreadPoolServer$WorkerProcess:run:TThreadPoolServer.java:286', 'java.util.concurrent.ThreadPoolExecutor:runWorker:ThreadPoolExecutor.java:1149', 'java.util.concurrent.ThreadPoolExecutor$Worker:run:ThreadPoolExecutor.java:624', 'java.lang.Thread:run:Thread.java:750'], sqlState='08S01', errorCode=1, errorMessage='Error while processing statement: FAILED: Execution Error, return code 1 from org.apache.hadoop.hive.ql.exec.tez.TezTask'), operationHandle=None)"
     ]
    }
   ],
   "source": [
    "cursor.execute(\"SELECT family_name, salary from employee,salary where employee.employee_id=salary.employee_id order by salary\")\n",
    "data=cursor.fetchall()"
   ]
  },
  {
   "cell_type": "code",
   "execution_count": 22,
   "metadata": {
    "colab": {
     "base_uri": "https://localhost:8080/"
    },
    "id": "qhW7ZrUA5OTk",
    "outputId": "10408631-13fc-4750-a98b-6c25811ed087"
   },
   "outputs": [
    {
     "data": {
      "text/plain": [
       "[(\"'Unno'\", 38735),\n",
       " (\"'Narwekar'\", 38812),\n",
       " (\"'Langford'\", 38836),\n",
       " (\"'Biran'\", 38850),\n",
       " (\"'Syang'\", 38851),\n",
       " (\"'Unno'\", 38859),\n",
       " (\"'Reinhard'\", 38874),\n",
       " (\"'Copas'\", 38888),\n",
       " (\"'Perri'\", 38928),\n",
       " (\"'Rosis'\", 39006),\n",
       " (\"'Narwekar'\", 39012),\n",
       " (\"'Cooke'\", 39020),\n",
       " (\"'Kushnir'\", 39035),\n",
       " (\"'Limongiello'\", 39036),\n",
       " (\"'Hoogerwoord'\", 39046),\n",
       " (\"'Schauser'\", 39050),\n",
       " (\"'Onuegbe'\", 39054),\n",
       " (\"'Langford'\", 39060),\n",
       " (\"'Zhang'\", 39062),\n",
       " (\"'Kushnir'\", 39063),\n",
       " (\"'Backhouse'\", 39066),\n",
       " (\"'Narwekar'\", 39069),\n",
       " (\"'Bail'\", 39072),\n",
       " (\"'Butner'\", 39089),\n",
       " (\"'Navazio'\", 39098),\n",
       " (\"'Fritzsche'\", 39105),\n",
       " (\"'Cincotta'\", 39117),\n",
       " (\"'Seiwald'\", 39119),\n",
       " (\"'Cesareni'\", 39120),\n",
       " (\"'Erdmenger'\", 39124),\n",
       " (\"'Gomatam'\", 39127),\n",
       " (\"'Tomescu'\", 39128),\n",
       " (\"'Mamelak'\", 39128),\n",
       " (\"'Reeken'\", 39129),\n",
       " (\"'Ozeki'\", 39142),\n",
       " (\"'Masamoto'\", 39143),\n",
       " (\"'Brizzi'\", 39143),\n",
       " (\"'McFarlin'\", 39146),\n",
       " (\"'Peac'\", 39146),\n",
       " (\"'Uchoa'\", 39161),\n",
       " (\"'Harbusch'\", 39166),\n",
       " (\"'Griswold'\", 39166),\n",
       " (\"'Ambroszkiewicz'\", 39171),\n",
       " (\"'Zuberek'\", 39177),\n",
       " (\"'Dulin'\", 39182),\n",
       " (\"'Gruenwald'\", 39183),\n",
       " (\"'Marrakchi'\", 39186),\n",
       " (\"'Broder'\", 39187),\n",
       " (\"'Ernst'\", 39192),\n",
       " (\"'Yoshizawa'\", 39198),\n",
       " (\"'Anick'\", 39201),\n",
       " (\"'Spell'\", 39205),\n",
       " (\"'Garigliano'\", 39212),\n",
       " (\"'Jullig'\", 39216),\n",
       " (\"'Hegner'\", 39217),\n",
       " (\"'Copas'\", 39221),\n",
       " (\"'Zirintsis'\", 39222),\n",
       " (\"'Kusakabe'\", 39225),\n",
       " (\"'Pelc'\", 39229),\n",
       " (\"'Biran'\", 39230),\n",
       " (\"'Sankaranarayanan'\", 39236),\n",
       " (\"'Farrel'\", 39236),\n",
       " (\"'Beutelspacher'\", 39239),\n",
       " (\"'Schaft'\", 39246),\n",
       " (\"'Basawa'\", 39250),\n",
       " (\"'Pavlopoulou'\", 39251),\n",
       " (\"'Chimia'\", 39253),\n",
       " (\"'Luef'\", 39254),\n",
       " (\"'Schieder'\", 39256),\n",
       " (\"'Erez'\", 39257),\n",
       " (\"'Cincotta'\", 39259),\n",
       " (\"'Birsak'\", 39260),\n",
       " (\"'Lindqvist'\", 39264),\n",
       " (\"'Benzmuller'\", 39265),\n",
       " (\"'Erni'\", 39266),\n",
       " (\"'Unni'\", 39267),\n",
       " (\"'Syang'\", 39270),\n",
       " (\"'Henders'\", 39271),\n",
       " (\"'Narwekar'\", 39273),\n",
       " (\"'Ashish'\", 39274),\n",
       " (\"'Reinhard'\", 39275),\n",
       " (\"'Soicher'\", 39279),\n",
       " (\"'Peot'\", 39280),\n",
       " (\"'Lamparter'\", 39281),\n",
       " (\"'Skrikant'\", 39282),\n",
       " (\"'Mullainathan'\", 39283),\n",
       " (\"'Turnbull'\", 39285),\n",
       " (\"'Ramalingam'\", 39289),\n",
       " (\"'Roison'\", 39291),\n",
       " (\"'Skrikant'\", 39294),\n",
       " (\"'Verhoeff'\", 39295),\n",
       " (\"'Swiss'\", 39300),\n",
       " (\"'Pehl'\", 39301),\n",
       " (\"'Douceur'\", 39301),\n",
       " (\"'Langford'\", 39303),\n",
       " (\"'Seiwald'\", 39307),\n",
       " (\"'Chachaty'\", 39313),\n",
       " (\"'Brookner'\", 39314),\n",
       " (\"'Dechter'\", 39319),\n",
       " (\"'Stifter'\", 39321)]"
      ]
     },
     "execution_count": 22,
     "metadata": {},
     "output_type": "execute_result"
    }
   ],
   "source": [
    "data[:100]"
   ]
  },
  {
   "cell_type": "markdown",
   "metadata": {
    "id": "d67mWDujH01k"
   },
   "source": [
    "## Ex 3\n",
    "Get the average salary by gender. Hint: use Group by"
   ]
  },
  {
   "cell_type": "code",
   "execution_count": 23,
   "metadata": {
    "colab": {
     "base_uri": "https://localhost:8080/"
    },
    "id": "aYZjnau0H01l",
    "outputId": "cfe90815-4bb9-4d7c-d0dd-1474c46e727a"
   },
   "outputs": [
    {
     "data": {
      "text/plain": [
       "[(\"'F'\", 63760.08469915328), (\"'M'\", 63758.86649934126)]"
      ]
     },
     "execution_count": 23,
     "metadata": {},
     "output_type": "execute_result"
    }
   ],
   "source": [
    "cursor.execute(\"SELECT employee2.gender,avg(salary) from employee2,salary where employee2.employee_id=salary.employee_id group by employee2.gender\")\n",
    "cursor.fetchall()"
   ]
  },
  {
   "cell_type": "code",
   "execution_count": null,
   "metadata": {
    "id": "OYp78F7AH01l"
   },
   "outputs": [],
   "source": []
  }
 ],
 "metadata": {
  "accelerator": "GPU",
  "colab": {
   "name": "Assignment_Hive.ipynb",
   "provenance": []
  },
  "kernelspec": {
   "display_name": "Python 3 (ipykernel)",
   "language": "python",
   "name": "python3"
  },
  "language_info": {
   "codemirror_mode": {
    "name": "ipython",
    "version": 3
   },
   "file_extension": ".py",
   "mimetype": "text/x-python",
   "name": "python",
   "nbconvert_exporter": "python",
   "pygments_lexer": "ipython3",
   "version": "3.9.12"
  }
 },
 "nbformat": 4,
 "nbformat_minor": 1
}
