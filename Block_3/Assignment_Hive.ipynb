{
 "cells": [
  {
   "cell_type": "markdown",
   "metadata": {
    "id": "MgHClVPfH01I"
   },
   "source": [
    "# Hive\n",
    "We use the *pyHive* lib: https://github.com/dropbox/PyHive \n",
    "\n",
    "## Resources\n",
    "* [HQL cheat sheet](http://hortonworks.com/wp-content/uploads/2016/05/Hortonworks.CheatSheet.SQLtoHive.pdf)\n",
    "* [Hive reference](https://cwiki.apache.org/confluence/display/Hive/LanguageManual)\n",
    "\n",
    "## Install\n",
    "Install *pyHive* via *anaconda*"
   ]
  },
  {
   "cell_type": "code",
   "execution_count": 1,
   "metadata": {
    "id": "HCaNBc_pH01S"
   },
   "outputs": [],
   "source": [
    "!pip install -q condacolab \n",
    "\n"
   ]
  },
  {
   "cell_type": "code",
   "execution_count": 2,
   "metadata": {
    "colab": {
     "base_uri": "https://localhost:8080/"
    },
    "id": "hbf_ESW7rYxU",
    "outputId": "5c6ae7cb-a503-4bd8-ec80-a46a779d6484"
   },
   "outputs": [
    {
     "ename": "RuntimeError",
     "evalue": "This module must ONLY run as part of a Colab notebook!",
     "output_type": "error",
     "traceback": [
      "\u001b[0;31m---------------------------------------------------------------------------\u001b[0m",
      "\u001b[0;31mModuleNotFoundError\u001b[0m                       Traceback (most recent call last)",
      "File \u001b[0;32m~/anaconda3/lib/python3.9/site-packages/condacolab.py:26\u001b[0m, in \u001b[0;36m<module>\u001b[0;34m\u001b[0m\n\u001b[1;32m     25\u001b[0m \u001b[38;5;28;01mtry\u001b[39;00m:\n\u001b[0;32m---> 26\u001b[0m     \u001b[38;5;28;01mimport\u001b[39;00m \u001b[38;5;21;01mgoogle\u001b[39;00m\u001b[38;5;21;01m.\u001b[39;00m\u001b[38;5;21;01mcolab\u001b[39;00m\n\u001b[1;32m     27\u001b[0m \u001b[38;5;28;01mexcept\u001b[39;00m \u001b[38;5;167;01mImportError\u001b[39;00m:\n",
      "\u001b[0;31mModuleNotFoundError\u001b[0m: No module named 'google.colab'",
      "\nDuring handling of the above exception, another exception occurred:\n",
      "\u001b[0;31mRuntimeError\u001b[0m                              Traceback (most recent call last)",
      "Input \u001b[0;32mIn [2]\u001b[0m, in \u001b[0;36m<cell line: 1>\u001b[0;34m()\u001b[0m\n\u001b[0;32m----> 1\u001b[0m \u001b[38;5;28;01mimport\u001b[39;00m \u001b[38;5;21;01mcondacolab\u001b[39;00m \n\u001b[1;32m      2\u001b[0m condacolab\u001b[38;5;241m.\u001b[39minstall()\n",
      "File \u001b[0;32m~/anaconda3/lib/python3.9/site-packages/condacolab.py:28\u001b[0m, in \u001b[0;36m<module>\u001b[0;34m\u001b[0m\n\u001b[1;32m     26\u001b[0m     \u001b[38;5;28;01mimport\u001b[39;00m \u001b[38;5;21;01mgoogle\u001b[39;00m\u001b[38;5;21;01m.\u001b[39;00m\u001b[38;5;21;01mcolab\u001b[39;00m\n\u001b[1;32m     27\u001b[0m \u001b[38;5;28;01mexcept\u001b[39;00m \u001b[38;5;167;01mImportError\u001b[39;00m:\n\u001b[0;32m---> 28\u001b[0m     \u001b[38;5;28;01mraise\u001b[39;00m \u001b[38;5;167;01mRuntimeError\u001b[39;00m(\u001b[38;5;124m\"\u001b[39m\u001b[38;5;124mThis module must ONLY run as part of a Colab notebook!\u001b[39m\u001b[38;5;124m\"\u001b[39m)\n\u001b[1;32m     31\u001b[0m __version__ \u001b[38;5;241m=\u001b[39m \u001b[38;5;124m\"\u001b[39m\u001b[38;5;124m0.1.4\u001b[39m\u001b[38;5;124m\"\u001b[39m\n\u001b[1;32m     32\u001b[0m __author__ \u001b[38;5;241m=\u001b[39m \u001b[38;5;124m\"\u001b[39m\u001b[38;5;124mJaime Rodríguez-Guerra <jaimergp@users.noreply.github.com>\u001b[39m\u001b[38;5;124m\"\u001b[39m\n",
      "\u001b[0;31mRuntimeError\u001b[0m: This module must ONLY run as part of a Colab notebook!"
     ]
    }
   ],
   "source": [
    "import condacolab \n",
    "condacolab.install() \n",
    "\n"
   ]
  },
  {
   "cell_type": "code",
   "execution_count": 3,
   "metadata": {
    "colab": {
     "base_uri": "https://localhost:8080/"
    },
    "id": "yZtda4Pardbi",
    "outputId": "a6a946e1-872d-4c46-bfa3-1b3bee96bf69"
   },
   "outputs": [
    {
     "name": "stdout",
     "output_type": "stream",
     "text": [
      "Collecting package metadata (current_repodata.json): done\n",
      "Solving environment: done\n",
      "\n",
      "## Package Plan ##\n",
      "\n",
      "  environment location: /home/keuper/anaconda3\n",
      "\n",
      "  added / updated specs:\n",
      "    - pyhive\n",
      "    - sasl\n",
      "\n",
      "\n",
      "The following packages will be downloaded:\n",
      "\n",
      "    package                    |            build\n",
      "    ---------------------------|-----------------\n",
      "    conda-22.11.0              |   py39h06a4308_1         927 KB\n",
      "    cyrus-sasl-2.1.27          |       h758a394_8         275 KB\n",
      "    libdb-6.2.32               |       hf484d3e_0        18.5 MB\n",
      "    pyhive-0.6.1               |   py39h06a4308_0         368 KB\n",
      "    ruamel.yaml-0.16.12        |   py39h27cfd23_1         184 KB\n",
      "    ruamel.yaml.clib-0.2.6     |   py39h7f8727e_0         137 KB\n",
      "    sasl-0.2.1                 |   py39h48830cd_1          58 KB\n",
      "    thrift-0.13.0              |   py39h2531618_0         119 KB\n",
      "    thrift_sasl-0.4.2          |   py39h06a4308_2           9 KB\n",
      "    ------------------------------------------------------------\n",
      "                                           Total:        20.5 MB\n",
      "\n",
      "The following NEW packages will be INSTALLED:\n",
      "\n",
      "  cyrus-sasl         pkgs/main/linux-64::cyrus-sasl-2.1.27-h758a394_8 None\n",
      "  libdb              pkgs/main/linux-64::libdb-6.2.32-hf484d3e_0 None\n",
      "  pyhive             pkgs/main/linux-64::pyhive-0.6.1-py39h06a4308_0 None\n",
      "  ruamel.yaml        pkgs/main/linux-64::ruamel.yaml-0.16.12-py39h27cfd23_1 None\n",
      "  ruamel.yaml.clib   pkgs/main/linux-64::ruamel.yaml.clib-0.2.6-py39h7f8727e_0 None\n",
      "  sasl               pkgs/main/linux-64::sasl-0.2.1-py39h48830cd_1 None\n",
      "  thrift             pkgs/main/linux-64::thrift-0.13.0-py39h2531618_0 None\n",
      "  thrift_sasl        pkgs/main/linux-64::thrift_sasl-0.4.2-py39h06a4308_2 None\n",
      "\n",
      "The following packages will be UPDATED:\n",
      "\n",
      "  conda              conda-forge::conda-22.9.0-py39hf3d152~ --> pkgs/main::conda-22.11.0-py39h06a4308_1 None\n",
      "\n",
      "\n",
      "\n",
      "Downloading and Extracting Packages\n",
      "cyrus-sasl-2.1.27    | 275 KB    | ##################################### | 100% \n",
      "thrift-0.13.0        | 119 KB    | ##################################### | 100% \n",
      "ruamel.yaml.clib-0.2 | 137 KB    | ##################################### | 100% \n",
      "thrift_sasl-0.4.2    | 9 KB      | ##################################### | 100% \n",
      "sasl-0.2.1           | 58 KB     | ##################################### | 100% \n",
      "libdb-6.2.32         | 18.5 MB   | ##################################### | 100% \n",
      "pyhive-0.6.1         | 368 KB    | ##################################### | 100% \n",
      "ruamel.yaml-0.16.12  | 184 KB    | ##################################### | 100% \n",
      "conda-22.11.0        | 927 KB    | ##################################### | 100% \n",
      "Preparing transaction: done\n",
      "Verifying transaction: done\n",
      "Executing transaction: done\n",
      "Retrieving notices: ...working... done\n"
     ]
    }
   ],
   "source": [
    "!conda install -y pyhive sasl"
   ]
  },
  {
   "cell_type": "code",
   "execution_count": 1,
   "metadata": {
    "id": "AoBWUZAVH01U"
   },
   "outputs": [],
   "source": [
    "#import libs\n",
    "from pyhive import hive\n",
    "from TCLIService.ttypes import TOperationState"
   ]
  },
  {
   "cell_type": "code",
   "execution_count": 3,
   "metadata": {
    "id": "Xei9sSNAH01V"
   },
   "outputs": [],
   "source": [
    "# try to connect\n",
    "server=\"ec2-52-51-147-153.eu-west-1.compute.amazonaws.com\"\n",
    "cursor = hive.connect(server).cursor()"
   ]
  },
  {
   "cell_type": "code",
   "execution_count": 4,
   "metadata": {
    "id": "PBzVSTQEH01V"
   },
   "outputs": [],
   "source": [
    "#show our databases\n",
    "cursor.execute('show databases')"
   ]
  },
  {
   "cell_type": "code",
   "execution_count": 5,
   "metadata": {
    "colab": {
     "base_uri": "https://localhost:8080/"
    },
    "id": "oblfzvS6H01W",
    "outputId": "2a2a26c2-68a5-4657-ca89-a6802b83a28f"
   },
   "outputs": [
    {
     "data": {
      "text/plain": [
       "[('default',)]"
      ]
     },
     "execution_count": 5,
     "metadata": {},
     "output_type": "execute_result"
    }
   ],
   "source": [
    "#get data from execution\n",
    "cursor.fetchall()"
   ]
  },
  {
   "cell_type": "code",
   "execution_count": 6,
   "metadata": {
    "id": "3HOpreHyH01Y"
   },
   "outputs": [],
   "source": [
    "#use default db\n",
    "cursor.execute('use default')"
   ]
  },
  {
   "cell_type": "code",
   "execution_count": 7,
   "metadata": {
    "id": "sfP3VHwyH01a"
   },
   "outputs": [],
   "source": [
    "#show tables in db\n",
    "cursor.execute('show tables')"
   ]
  },
  {
   "cell_type": "code",
   "execution_count": 8,
   "metadata": {
    "colab": {
     "base_uri": "https://localhost:8080/"
    },
    "id": "Q93V1EWLH01b",
    "outputId": "53e440da-fbc0-4d77-f3c8-e0c8836dd352"
   },
   "outputs": [
    {
     "data": {
      "text/plain": [
       "[('employee',), ('salary',)]"
      ]
     },
     "execution_count": 8,
     "metadata": {},
     "output_type": "execute_result"
    }
   ],
   "source": [
    "cursor.fetchall()"
   ]
  },
  {
   "cell_type": "code",
   "execution_count": 19,
   "metadata": {
    "colab": {
     "base_uri": "https://localhost:8080/"
    },
    "id": "AGw0RCptH01c",
    "outputId": "5df9a7be-f183-4a0d-e278-2148f1835ebd"
   },
   "outputs": [
    {
     "data": {
      "text/plain": [
       "[('employee_id', 'int', ''),\n",
       " ('birthday', 'date', ''),\n",
       " ('first_name', 'string', ''),\n",
       " ('family_name', 'string', ''),\n",
       " ('gender', 'char(1)', ''),\n",
       " ('work_day', 'date', '')]"
      ]
     },
     "execution_count": 19,
     "metadata": {},
     "output_type": "execute_result"
    }
   ],
   "source": [
    "# get table layout\n",
    "cursor.execute('describe employee')\n",
    "cursor.fetchall()"
   ]
  },
  {
   "cell_type": "code",
   "execution_count": 20,
   "metadata": {
    "id": "lVrk3FeAH01d"
   },
   "outputs": [],
   "source": [
    "#select data\n",
    "cursor.execute('select * from employee')"
   ]
  },
  {
   "cell_type": "code",
   "execution_count": 21,
   "metadata": {
    "id": "FfrzcTSoH01e"
   },
   "outputs": [],
   "source": [
    "#get daata from selction\n",
    "employee = cursor.fetchall()"
   ]
  },
  {
   "cell_type": "code",
   "execution_count": 22,
   "metadata": {
    "colab": {
     "base_uri": "https://localhost:8080/"
    },
    "id": "9jmXC22-H01f",
    "outputId": "6cd524f8-d778-4af2-f66a-e801541f9b3e"
   },
   "outputs": [
    {
     "data": {
      "text/plain": [
       "[(10001, None, \"'Georgi'\", \"'Facello'\", \"'\", None),\n",
       " (10002, None, \"'Bezalel'\", \"'Simmel'\", \"'\", None),\n",
       " (10003, None, \"'Parto'\", \"'Bamford'\", \"'\", None),\n",
       " (10004, None, \"'Chirstian'\", \"'Koblick'\", \"'\", None),\n",
       " (10005, None, \"'Kyoichi'\", \"'Maliniak'\", \"'\", None),\n",
       " (10006, None, \"'Anneke'\", \"'Preusig'\", \"'\", None),\n",
       " (10007, None, \"'Tzvetan'\", \"'Zielinski'\", \"'\", None),\n",
       " (10008, None, \"'Saniya'\", \"'Kalloufi'\", \"'\", None),\n",
       " (10009, None, \"'Sumant'\", \"'Peac'\", \"'\", None),\n",
       " (10010, None, \"'Duangkaew'\", \"'Piveteau'\", \"'\", None)]"
      ]
     },
     "execution_count": 22,
     "metadata": {},
     "output_type": "execute_result"
    }
   ],
   "source": [
    "#have a look\n",
    "employee[:10]"
   ]
  },
  {
   "cell_type": "code",
   "execution_count": 33,
   "metadata": {
    "colab": {
     "base_uri": "https://localhost:8080/"
    },
    "id": "EDcDMjh3H01f",
    "outputId": "a89400a9-6438-4ffb-bf6e-dcb526bb37bc"
   },
   "outputs": [
    {
     "data": {
      "text/plain": [
       "[('employee_id', 'int', ''),\n",
       " ('salary', 'int', ''),\n",
       " ('start_date', 'date', ''),\n",
       " ('end_date', 'date', '')]"
      ]
     },
     "execution_count": 33,
     "metadata": {},
     "output_type": "execute_result"
    }
   ],
   "source": [
    "# get salary table layout\n",
    "cursor.execute('describe salary')\n",
    "cursor.fetchall()"
   ]
  },
  {
   "cell_type": "code",
   "execution_count": 36,
   "metadata": {
    "id": "N3R5nE9ZH01g"
   },
   "outputs": [],
   "source": [
    "#select data\n",
    "cursor.execute('select * from salary')"
   ]
  },
  {
   "cell_type": "code",
   "execution_count": 37,
   "metadata": {
    "id": "OX9pna1WH01h"
   },
   "outputs": [],
   "source": [
    "#get daata from selction\n",
    "salary = cursor.fetchall()"
   ]
  },
  {
   "cell_type": "code",
   "execution_count": 38,
   "metadata": {
    "colab": {
     "base_uri": "https://localhost:8080/"
    },
    "id": "sPyV2OsSH01h",
    "outputId": "7ef4bad1-1824-434a-adb6-6ca336519ce4"
   },
   "outputs": [
    {
     "data": {
      "text/plain": [
       "[(10001, 60117, None, None),\n",
       " (10001, 62102, None, None),\n",
       " (10001, 66074, None, None),\n",
       " (10001, 66596, None, None),\n",
       " (10001, 66961, None, None),\n",
       " (10001, 71046, None, None),\n",
       " (10001, 74333, None, None),\n",
       " (10001, 75286, None, None),\n",
       " (10001, 75994, None, None),\n",
       " (10001, 76884, None, None)]"
      ]
     },
     "execution_count": 38,
     "metadata": {},
     "output_type": "execute_result"
    }
   ],
   "source": [
    "salary[:10]"
   ]
  },
  {
   "cell_type": "markdown",
   "metadata": {
    "id": "Cr0ty4gsH01i"
   },
   "source": [
    "## Ex 1\n",
    "Get employees sorted by ``family_name``. Return first 10 entries."
   ]
  },
  {
   "cell_type": "code",
   "execution_count": null,
   "metadata": {
    "id": "5plL57fKH01i"
   },
   "outputs": [],
   "source": [
    "cursor.execute(\" \")"
   ]
  },
  {
   "cell_type": "code",
   "execution_count": null,
   "metadata": {
    "id": "f5AbUIxfH01j"
   },
   "outputs": [],
   "source": [
    "cursor.fetchall()"
   ]
  },
  {
   "cell_type": "markdown",
   "metadata": {
    "id": "A5YKLzYnH01j"
   },
   "source": [
    "## Ex 2\n",
    "Get ``family_name`` and ``salary`` of employees sorted by salary. Return first 100 entries. Hint: you need to join both tables..."
   ]
  },
  {
   "cell_type": "code",
   "execution_count": null,
   "metadata": {
    "id": "sqGnrDiHH01k"
   },
   "outputs": [],
   "source": [
    "cursor.execute(\" \")\n",
    "data=cursor.fetchall()"
   ]
  },
  {
   "cell_type": "markdown",
   "metadata": {
    "id": "d67mWDujH01k"
   },
   "source": [
    "## Ex 3\n",
    "Get the average salary by gender. Hint: use Group by"
   ]
  },
  {
   "cell_type": "code",
   "execution_count": null,
   "metadata": {
    "id": "aYZjnau0H01l"
   },
   "outputs": [],
   "source": [
    "cursor.execute(\" \")\n",
    "cursor.fetchall()"
   ]
  },
  {
   "cell_type": "code",
   "execution_count": null,
   "metadata": {
    "id": "OYp78F7AH01l"
   },
   "outputs": [],
   "source": []
  }
 ],
 "metadata": {
  "accelerator": "GPU",
  "colab": {
   "name": "Assignment_Hive.ipynb",
   "provenance": []
  },
  "kernelspec": {
   "display_name": "Python 3 (ipykernel)",
   "language": "python",
   "name": "python3"
  },
  "language_info": {
   "codemirror_mode": {
    "name": "ipython",
    "version": 3
   },
   "file_extension": ".py",
   "mimetype": "text/x-python",
   "name": "python",
   "nbconvert_exporter": "python",
   "pygments_lexer": "ipython3",
   "version": "3.9.12"
  }
 },
 "nbformat": 4,
 "nbformat_minor": 1
}
